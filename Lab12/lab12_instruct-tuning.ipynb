{
 "cells": [
  {
   "cell_type": "markdown",
   "id": "b077cd14",
   "metadata": {},
   "source": [
    "## CS310 Natural Language Processing\n",
    "## Lab 12: Instruction Tuning\n",
    "\n",
    "In this lab, we will explore the data and code framework for the instruction tuning task.\n",
    "\n",
    "First, download the `dataset.zip` file and unzip it to the current directory. The dataset contains `alpaca_data.json` file."
   ]
  },
  {
   "cell_type": "code",
   "id": "cfcc15b9",
   "metadata": {
    "ExecuteTime": {
     "end_time": "2025-05-13T08:31:39.794708Z",
     "start_time": "2025-05-13T08:31:39.774738Z"
    }
   },
   "source": [
    "import torch\n",
    "from torch.utils.data import DataLoader\n",
    "from dataclasses import dataclass\n",
    "from typing import Dict, Sequence\n",
    "\n",
    "from transformers import (\n",
    "    AutoModelForCausalLM,\n",
    "    AutoTokenizer,\n",
    "    HfArgumentParser,\n",
    "    PreTrainedTokenizer,\n",
    "    TrainingArguments,\n",
    "    Trainer,\n",
    ")\n",
    "\n",
    "from transformers.hf_argparser import HfArg\n",
    "import json"
   ],
   "outputs": [],
   "execution_count": 39
  },
  {
   "cell_type": "markdown",
   "id": "d9029727",
   "metadata": {},
   "source": [
    "The necessary arguments for the experiment."
   ]
  },
  {
   "cell_type": "code",
   "id": "d7e61aaf",
   "metadata": {
    "ExecuteTime": {
     "end_time": "2025-05-13T08:31:39.886305Z",
     "start_time": "2025-05-13T08:31:39.863321Z"
    }
   },
   "source": [
    "@dataclass\n",
    "class Arguments(TrainingArguments):\n",
    "    model_name_or_path: str = HfArg(\n",
    "        default = './llama-7b-tokenizer', # Replace with the path to your model\n",
    "        help=\"The model name or path, e.g., `meta-llama/Llama-2-7b-hf`\",\n",
    "    )\n",
    "\n",
    "    dataset: str = HfArg(\n",
    "        default = 'dataset/alpaca_data.json',\n",
    "        help=\"Setting the names of data file.\",\n",
    "    )\n",
    "\n",
    "    model_max_length: int = HfArg(\n",
    "        default=2048,\n",
    "        help=\"The maximum sequence length\",\n",
    "    )\n",
    "\n",
    "    save_only_model: bool = HfArg(\n",
    "        default=True,\n",
    "        help=\"When checkpointing, whether to only save the model, or also the optimizer, scheduler & rng state.\",\n",
    "    )\n",
    "\n",
    "    bf16: bool = HfArg(\n",
    "        # default=True,\n",
    "        default = False,\n",
    "        help=\"Whether to use bf16 (mixed) precision instead of 32-bit.\",\n",
    "    )\n",
    "\n",
    "    output_dir: str = HfArg(\n",
    "        default=\"output\",\n",
    "        help=\"The output directory where the model predictions and checkpoints will be written.\",\n",
    "    )"
   ],
   "outputs": [],
   "execution_count": 40
  },
  {
   "cell_type": "markdown",
   "id": "7a2e1124",
   "metadata": {},
   "source": [
    "We will not actually parse the arguments in this notebook, because it is suppposed to be run as a script.\n",
    "\n",
    "Instead, we create an instance of `Arguments` class for later use."
   ]
  },
  {
   "cell_type": "code",
   "id": "398b1d0b",
   "metadata": {
    "ExecuteTime": {
     "end_time": "2025-05-13T08:31:39.928792Z",
     "start_time": "2025-05-13T08:31:39.912677Z"
    }
   },
   "source": [
    "args = Arguments()\n",
    "print(args.model_name_or_path)\n",
    "print(args.dataset)\n",
    "print(args.model_max_length)"
   ],
   "outputs": [
    {
     "name": "stdout",
     "output_type": "stream",
     "text": [
      "./llama-7b-tokenizer\n",
      "dataset/alpaca_data.json\n",
      "2048\n"
     ]
    }
   ],
   "execution_count": 41
  },
  {
   "cell_type": "markdown",
   "id": "24103813",
   "metadata": {},
   "source": [
    "## T1. Define the SFTDataset class\n",
    "\n",
    "We will then define a wrapper class for the SFT dataset.\n",
    "\n",
    "There two methods you need to implement:\n",
    "- `process()`: Load the dataset and process it into the format required by the model; need to call `encode_src_tgt()` in this method.\n",
    "  - for each example loaded from the dataset, format the `s` string by using `format_template[\"prompt_input\"]` or `format_template[\"prompt_no_input\"]` depending on whether the example has an input or not.\n",
    "  - format the `t` string by taking the `output` field of the example.\n",
    "  - feed `s` and `t` to `encode_src_tgt()` to get the encoded tensors.\n",
    "- `encode_src_tgt()`: Tokenize the input and output, and mark the output position\n",
    "  - Tokenize the `s` string to get the `source_id` by calling `tokenizer.encode()`; remember to truncate it to `self.model_max_length`.\n",
    "  - Tokenize the `s+t` string to get the `input_id`;\n",
    "  - Clone `input_id` to `label`, and mask all the `source_id` positions with `self.IGNORE_INDEX`."
   ]
  },
  {
   "cell_type": "code",
   "id": "b515170d",
   "metadata": {
    "ExecuteTime": {
     "end_time": "2025-05-13T08:31:39.973912Z",
     "start_time": "2025-05-13T08:31:39.953126Z"
    }
   },
   "source": [
    "class SFTDataset:\n",
    "    IGNORE_INDEX = -100\n",
    "    \n",
    "    # Define the format of the prompt and response\n",
    "    instruction_template = \"\\n### Instruction:\\n\"\n",
    "    response_template = \"\\n### Output:\\n\"\n",
    "    format_template = {\n",
    "        \"prompt_input\": (\n",
    "            \"Below is an instruction that describes a task, paired with an input that provides further context. \" +\n",
    "            \"Write a response that appropriately completes the request.\" + instruction_template + \"{instruction}\" + \"\\n\" +\n",
    "            \"{input}\" + response_template\n",
    "        ),\n",
    "        \"prompt_no_input\": (\n",
    "            \"Below is an instruction that describes a task. \" +\n",
    "            \"Write a response that appropriately completes the request.\" + instruction_template + \"{instruction}\" +\n",
    "            response_template\n",
    "        ),\n",
    "    }\n",
    "\n",
    "    def __init__(self, args, tokenizer):\n",
    "        self.args = args\n",
    "        self.block_size = self.args.model_max_length\n",
    "        self.tokenizer = tokenizer\n",
    "        self.input_ids, self.labels = self.process(self.tokenizer)\n",
    "\n",
    "    def __len__(self):\n",
    "        return len(self.input_ids)\n",
    "\n",
    "    def __getitem__(self, i):\n",
    "        return dict(input_ids=self.input_ids[i], labels=self.labels[i])\n",
    "\n",
    "    # Tokenize the input and output, and mark the output position\n",
    "    def encode_src_tgt(self, s, t, tokenizer):\n",
    "        ### START YOUR CODE ###\n",
    "        # 对源文本进行编码，并截断到最大长度\n",
    "        source_id = tokenizer.encode(s, truncation=True, max_length=self.block_size, return_tensors=\"pt\")[0]\n",
    "        ### END YOUR CODE ###\n",
    "\n",
    "        tokenizer.add_eos_token = True\n",
    "        ### START YOUR CODE ###\n",
    "        # 对整个输入（源文本+目标文本）进行编码\n",
    "        input_id = tokenizer.encode(s + t, truncation=True, max_length=self.block_size, return_tensors=\"pt\")[0]\n",
    "\n",
    "        ### END YOUR CODE ###\n",
    "\n",
    "        tokenizer.add_eos_token = False\n",
    "        label = input_id.clone()\n",
    "        ### START YOUR CODE ###\n",
    "        # Mask all the source_id positions with IGNORE_INDEX\n",
    "        # Masking with IGNORE_INDEX\n",
    "        # 将源文本部分的标签mask掉\n",
    "        label[:len(source_id)] = self.IGNORE_INDEX\n",
    "        ### END YOUR CODE ###\n",
    "\n",
    "        return input_id, label\n",
    "\n",
    "    # Load dataset, call encode_src_tgt\n",
    "    def process(self, tokenizer):\n",
    "        input_ids = []\n",
    "        labels = []\n",
    "        list_data_dict = json.load(open(self.args.dataset))\n",
    "\n",
    "        for example in list_data_dict:\n",
    "            ### START YOUR CODE ###\n",
    "            # Using the format_template to format the s string\n",
    "            if example.get(\"input\", \"\").strip():\n",
    "                s = self.format_template[\"prompt_input\"].format(\n",
    "                    instruction=example[\"instruction\"].strip(),\n",
    "                    input=example[\"input\"].strip()\n",
    "                )\n",
    "            else:\n",
    "                s = self.format_template[\"prompt_no_input\"].format(\n",
    "                    instruction=example[\"instruction\"].strip()\n",
    "                )\n",
    "            ### END YOUR CODE ###\n",
    "\n",
    "            example['response'] = example.pop('output')\n",
    "            t = example['response'].strip()\n",
    "\n",
    "            ### START YOUR CODE ###\n",
    "            # Call encode_src_tgt to get the encoded tensors\n",
    "            # 调用encode_src_tgt获取编码后的张量\n",
    "            input_id, label = self.encode_src_tgt(s, t, tokenizer)\n",
    "            ### END YOUR CODE ###\n",
    "\n",
    "            input_ids.append(input_id)\n",
    "            labels.append(label)\n",
    "\n",
    "        return input_ids, labels"
   ],
   "outputs": [],
   "execution_count": 42
  },
  {
   "cell_type": "markdown",
   "id": "b5c899c2",
   "metadata": {},
   "source": [
    "Test the SFTDataset class by printing some examples from the dataset."
   ]
  },
  {
   "cell_type": "code",
   "id": "b9657256",
   "metadata": {
    "ExecuteTime": {
     "end_time": "2025-05-13T08:33:09.716394Z",
     "start_time": "2025-05-13T08:31:39.996813Z"
    }
   },
   "source": [
    "# tokenizer = AutoTokenizer.from_pretrained(\n",
    "#         args.model_name_or_path,\n",
    "#         model_max_length=args.model_max_length,\n",
    "#         padding_side=\"right\",\n",
    "#         add_eos_token=False,\n",
    "#     )\n",
    "\n",
    "from transformers import LlamaTokenizer\n",
    "tokenizer = LlamaTokenizer.from_pretrained(\n",
    "    args.model_name_or_path,\n",
    "    model_max_length=args.model_max_length,\n",
    "    padding_side=\"right\",\n",
    "    legacy=True,  # 推荐加上，避免旧模型行为报错\n",
    ")\n",
    "if tokenizer.pad_token is None:\n",
    "    tokenizer.pad_token = tokenizer.eos_token\n",
    "dataset = SFTDataset(args, tokenizer) # Takes a few seconds to load"
   ],
   "outputs": [],
   "execution_count": 43
  },
  {
   "cell_type": "code",
   "id": "221c3371",
   "metadata": {
    "ExecuteTime": {
     "end_time": "2025-05-13T08:33:09.765562Z",
     "start_time": "2025-05-13T08:33:09.755449Z"
    }
   },
   "source": [
    "# print(dataset[0])\n",
    "print(dataset[0]['input_ids'].shape)\n",
    "print(dataset[0]['labels'].shape)\n",
    "\n",
    "print(dataset[1]['input_ids'].shape)\n",
    "print(dataset[1]['labels'].shape)\n",
    "\n",
    "# You expect to see the following output:\n",
    "# torch.Size([107])\n",
    "# torch.Size([107])\n",
    "# torch.Size([64])\n",
    "# torch.Size([64])"
   ],
   "outputs": [
    {
     "name": "stdout",
     "output_type": "stream",
     "text": [
      "torch.Size([97])\n",
      "torch.Size([97])\n",
      "torch.Size([54])\n",
      "torch.Size([54])\n"
     ]
    }
   ],
   "execution_count": 44
  },
  {
   "cell_type": "markdown",
   "id": "dd077aa4",
   "metadata": {},
   "source": [
    "You can notice that the different examples are of different lengths. \n",
    "\n",
    "So, we will define a collator class to pad the sequences to the same length.\n",
    "\n",
    "---"
   ]
  },
  {
   "cell_type": "markdown",
   "id": "bfb133b5",
   "metadata": {},
   "source": [
    "## T2. Define the Collator class\n",
    "\n",
    "In the `DataCollatorForSupervisedDataset` class, we will apply the `torch.nn.utils.rnn.pad_sequence` function to the `input_ids` and `labels` sequences.\n",
    "\n",
    "*Hint*: \n",
    "- Using `batch_first=True` \n",
    "- Using `padding_value=self.IGNORE_INDEX`"
   ]
  },
  {
   "cell_type": "code",
   "id": "730df714",
   "metadata": {
    "ExecuteTime": {
     "end_time": "2025-05-13T08:33:09.859517Z",
     "start_time": "2025-05-13T08:33:09.848205Z"
    }
   },
   "source": [
    "from dataclasses import dataclass\n",
    "from typing import Dict, Sequence\n",
    "import torch\n",
    "from torch.nn.utils.rnn import pad_sequence\n",
    "from transformers import PreTrainedTokenizer\n",
    "@dataclass\n",
    "class DataCollatorForSupervisedDataset():\n",
    "    tokenizer: PreTrainedTokenizer\n",
    "    IGNORE_INDEX = -100\n",
    "\n",
    "    def __call__(self, instances: Sequence[Dict]) -> Dict[str, torch.Tensor]:\n",
    "        input_ids, labels = tuple([instance[key] for instance in instances] for key in (\"input_ids\", \"labels\"))\n",
    "        \n",
    "        ### START YOUR CODE ###\n",
    "        # Pad input_ids and labels\n",
    "        # 分别提取 input_ids 和 labels\n",
    "        input_ids, labels = tuple([instance[key] for instance in instances] for key in (\"input_ids\", \"labels\"))\n",
    "\n",
    "        # padding，统一长度\n",
    "        input_ids = pad_sequence(input_ids, batch_first=True, padding_value=self.tokenizer.pad_token_id)\n",
    "        labels = pad_sequence(labels, batch_first=True, padding_value=self.IGNORE_INDEX)\n",
    "        ### END YOUR CODE ###\n",
    "\n",
    "        return dict(\n",
    "            input_ids=input_ids,\n",
    "            labels=labels,\n",
    "        )"
   ],
   "outputs": [],
   "execution_count": 45
  },
  {
   "cell_type": "code",
   "id": "f2cf38b6",
   "metadata": {
    "ExecuteTime": {
     "end_time": "2025-05-13T08:33:10.058775Z",
     "start_time": "2025-05-13T08:33:09.888455Z"
    }
   },
   "source": [
    "# Test \n",
    "data_collator = DataCollatorForSupervisedDataset(tokenizer)\n",
    "\n",
    "test_dataloader = DataLoader(dataset, batch_size=2, collate_fn=data_collator)\n",
    "for batch in test_dataloader:\n",
    "    print(batch['input_ids'].shape)\n",
    "    print(batch['labels'].shape)\n",
    "    break\n",
    "\n",
    "# You expect to see the following output:\n",
    "# torch.Size([2, 107])\n",
    "# torch.Size([2, 107])"
   ],
   "outputs": [
    {
     "name": "stdout",
     "output_type": "stream",
     "text": [
      "torch.Size([2, 97])\n",
      "torch.Size([2, 97])\n"
     ]
    }
   ],
   "execution_count": 46
  },
  {
   "cell_type": "markdown",
   "id": "10f48f32",
   "metadata": {},
   "source": [
    "We can see that the input_ids and labels within the same batch are now of the same length.\n",
    "\n",
    "---"
   ]
  },
  {
   "cell_type": "markdown",
   "id": "c52c9171",
   "metadata": {},
   "source": [
    "Finally, we can assemble the above components and run instruction tuning with a PyTrorch Trainer.\n",
    "\n",
    "The following code should be ready to go in a standalone script."
   ]
  },
  {
   "cell_type": "code",
   "id": "f8c3eb5e",
   "metadata": {
    "ExecuteTime": {
     "end_time": "2025-05-13T08:36:33.157978Z",
     "start_time": "2025-05-13T08:36:29.394083Z"
    }
   },
   "source": [
    "from transformers import AutoModelForCausalLM\n",
    "\n",
    "model = AutoModelForCausalLM.from_pretrained(\"meta-llama/Llama-2-7b-hf\", trust_remote_code=True)\n",
    "\n",
    "# model = AutoModelForCausalLM.from_pretrained(args.model_name_or_path)\n",
    "\n",
    "kwargs = dict(\n",
    "        model=model,\n",
    "        args=args,\n",
    "        tokenizer=tokenizer,\n",
    "        train_dataset=SFTDataset(args, tokenizer),\n",
    "        data_collator=DataCollatorForSupervisedDataset(tokenizer),\n",
    "    )\n",
    "\n",
    "trainer = Trainer(**kwargs)\n",
    "trainer.train()\n",
    "trainer.save_model(args.output_dir + \"/checkpoint-final\")\n",
    "trainer.save_state()"
   ],
   "outputs": [
    {
     "ename": "OSError",
     "evalue": "You are trying to access a gated repo.\nMake sure to have access to it at https://huggingface.co/meta-llama/Llama-2-7b-hf.\n403 Client Error. (Request ID: Root=1-6823048e-62f369cb0f82e3307e92dda7;69b67f4a-5cb4-48a0-934c-93b5fc359b69)\n\nCannot access gated repo for url https://huggingface.co/meta-llama/Llama-2-7b-hf/resolve/main/config.json.\nYour request to access model meta-llama/Llama-2-7b-hf has been rejected by the repo's authors.",
     "output_type": "error",
     "traceback": [
      "\u001B[31m---------------------------------------------------------------------------\u001B[39m",
      "\u001B[31mHTTPError\u001B[39m                                 Traceback (most recent call last)",
      "\u001B[36mFile \u001B[39m\u001B[32m~\\.conda\\envs\\NLP\\Lib\\site-packages\\huggingface_hub\\utils\\_http.py:409\u001B[39m, in \u001B[36mhf_raise_for_status\u001B[39m\u001B[34m(response, endpoint_name)\u001B[39m\n\u001B[32m    408\u001B[39m \u001B[38;5;28;01mtry\u001B[39;00m:\n\u001B[32m--> \u001B[39m\u001B[32m409\u001B[39m     response.raise_for_status()\n\u001B[32m    410\u001B[39m \u001B[38;5;28;01mexcept\u001B[39;00m HTTPError \u001B[38;5;28;01mas\u001B[39;00m e:\n",
      "\u001B[36mFile \u001B[39m\u001B[32m~\\.conda\\envs\\NLP\\Lib\\site-packages\\requests\\models.py:1024\u001B[39m, in \u001B[36mResponse.raise_for_status\u001B[39m\u001B[34m(self)\u001B[39m\n\u001B[32m   1023\u001B[39m \u001B[38;5;28;01mif\u001B[39;00m http_error_msg:\n\u001B[32m-> \u001B[39m\u001B[32m1024\u001B[39m     \u001B[38;5;28;01mraise\u001B[39;00m HTTPError(http_error_msg, response=\u001B[38;5;28mself\u001B[39m)\n",
      "\u001B[31mHTTPError\u001B[39m: 403 Client Error: Forbidden for url: https://huggingface.co/meta-llama/Llama-2-7b-hf/resolve/main/config.json",
      "\nThe above exception was the direct cause of the following exception:\n",
      "\u001B[31mGatedRepoError\u001B[39m                            Traceback (most recent call last)",
      "\u001B[36mFile \u001B[39m\u001B[32m~\\.conda\\envs\\NLP\\Lib\\site-packages\\transformers\\utils\\hub.py:424\u001B[39m, in \u001B[36mcached_files\u001B[39m\u001B[34m(path_or_repo_id, filenames, cache_dir, force_download, resume_download, proxies, token, revision, local_files_only, subfolder, repo_type, user_agent, _raise_exceptions_for_gated_repo, _raise_exceptions_for_missing_entries, _raise_exceptions_for_connection_errors, _commit_hash, **deprecated_kwargs)\u001B[39m\n\u001B[32m    422\u001B[39m \u001B[38;5;28;01mif\u001B[39;00m \u001B[38;5;28mlen\u001B[39m(full_filenames) == \u001B[32m1\u001B[39m:\n\u001B[32m    423\u001B[39m     \u001B[38;5;66;03m# This is slightly better for only 1 file\u001B[39;00m\n\u001B[32m--> \u001B[39m\u001B[32m424\u001B[39m     hf_hub_download(\n\u001B[32m    425\u001B[39m         path_or_repo_id,\n\u001B[32m    426\u001B[39m         filenames[\u001B[32m0\u001B[39m],\n\u001B[32m    427\u001B[39m         subfolder=\u001B[38;5;28;01mNone\u001B[39;00m \u001B[38;5;28;01mif\u001B[39;00m \u001B[38;5;28mlen\u001B[39m(subfolder) == \u001B[32m0\u001B[39m \u001B[38;5;28;01melse\u001B[39;00m subfolder,\n\u001B[32m    428\u001B[39m         repo_type=repo_type,\n\u001B[32m    429\u001B[39m         revision=revision,\n\u001B[32m    430\u001B[39m         cache_dir=cache_dir,\n\u001B[32m    431\u001B[39m         user_agent=user_agent,\n\u001B[32m    432\u001B[39m         force_download=force_download,\n\u001B[32m    433\u001B[39m         proxies=proxies,\n\u001B[32m    434\u001B[39m         resume_download=resume_download,\n\u001B[32m    435\u001B[39m         token=token,\n\u001B[32m    436\u001B[39m         local_files_only=local_files_only,\n\u001B[32m    437\u001B[39m     )\n\u001B[32m    438\u001B[39m \u001B[38;5;28;01melse\u001B[39;00m:\n",
      "\u001B[36mFile \u001B[39m\u001B[32m~\\.conda\\envs\\NLP\\Lib\\site-packages\\huggingface_hub\\utils\\_validators.py:114\u001B[39m, in \u001B[36mvalidate_hf_hub_args.<locals>._inner_fn\u001B[39m\u001B[34m(*args, **kwargs)\u001B[39m\n\u001B[32m    112\u001B[39m     kwargs = smoothly_deprecate_use_auth_token(fn_name=fn.\u001B[34m__name__\u001B[39m, has_token=has_token, kwargs=kwargs)\n\u001B[32m--> \u001B[39m\u001B[32m114\u001B[39m \u001B[38;5;28;01mreturn\u001B[39;00m fn(*args, **kwargs)\n",
      "\u001B[36mFile \u001B[39m\u001B[32m~\\.conda\\envs\\NLP\\Lib\\site-packages\\huggingface_hub\\file_download.py:1008\u001B[39m, in \u001B[36mhf_hub_download\u001B[39m\u001B[34m(repo_id, filename, subfolder, repo_type, revision, library_name, library_version, cache_dir, local_dir, user_agent, force_download, proxies, etag_timeout, token, local_files_only, headers, endpoint, resume_download, force_filename, local_dir_use_symlinks)\u001B[39m\n\u001B[32m   1007\u001B[39m \u001B[38;5;28;01melse\u001B[39;00m:\n\u001B[32m-> \u001B[39m\u001B[32m1008\u001B[39m     \u001B[38;5;28;01mreturn\u001B[39;00m _hf_hub_download_to_cache_dir(\n\u001B[32m   1009\u001B[39m         \u001B[38;5;66;03m# Destination\u001B[39;00m\n\u001B[32m   1010\u001B[39m         cache_dir=cache_dir,\n\u001B[32m   1011\u001B[39m         \u001B[38;5;66;03m# File info\u001B[39;00m\n\u001B[32m   1012\u001B[39m         repo_id=repo_id,\n\u001B[32m   1013\u001B[39m         filename=filename,\n\u001B[32m   1014\u001B[39m         repo_type=repo_type,\n\u001B[32m   1015\u001B[39m         revision=revision,\n\u001B[32m   1016\u001B[39m         \u001B[38;5;66;03m# HTTP info\u001B[39;00m\n\u001B[32m   1017\u001B[39m         endpoint=endpoint,\n\u001B[32m   1018\u001B[39m         etag_timeout=etag_timeout,\n\u001B[32m   1019\u001B[39m         headers=hf_headers,\n\u001B[32m   1020\u001B[39m         proxies=proxies,\n\u001B[32m   1021\u001B[39m         token=token,\n\u001B[32m   1022\u001B[39m         \u001B[38;5;66;03m# Additional options\u001B[39;00m\n\u001B[32m   1023\u001B[39m         local_files_only=local_files_only,\n\u001B[32m   1024\u001B[39m         force_download=force_download,\n\u001B[32m   1025\u001B[39m     )\n",
      "\u001B[36mFile \u001B[39m\u001B[32m~\\.conda\\envs\\NLP\\Lib\\site-packages\\huggingface_hub\\file_download.py:1115\u001B[39m, in \u001B[36m_hf_hub_download_to_cache_dir\u001B[39m\u001B[34m(cache_dir, repo_id, filename, repo_type, revision, endpoint, etag_timeout, headers, proxies, token, local_files_only, force_download)\u001B[39m\n\u001B[32m   1114\u001B[39m     \u001B[38;5;66;03m# Otherwise, raise appropriate error\u001B[39;00m\n\u001B[32m-> \u001B[39m\u001B[32m1115\u001B[39m     _raise_on_head_call_error(head_call_error, force_download, local_files_only)\n\u001B[32m   1117\u001B[39m \u001B[38;5;66;03m# From now on, etag, commit_hash, url and size are not None.\u001B[39;00m\n",
      "\u001B[36mFile \u001B[39m\u001B[32m~\\.conda\\envs\\NLP\\Lib\\site-packages\\huggingface_hub\\file_download.py:1643\u001B[39m, in \u001B[36m_raise_on_head_call_error\u001B[39m\u001B[34m(head_call_error, force_download, local_files_only)\u001B[39m\n\u001B[32m   1638\u001B[39m \u001B[38;5;28;01melif\u001B[39;00m \u001B[38;5;28misinstance\u001B[39m(head_call_error, (RepositoryNotFoundError, GatedRepoError)) \u001B[38;5;129;01mor\u001B[39;00m (\n\u001B[32m   1639\u001B[39m     \u001B[38;5;28misinstance\u001B[39m(head_call_error, HfHubHTTPError) \u001B[38;5;129;01mand\u001B[39;00m head_call_error.response.status_code == \u001B[32m401\u001B[39m\n\u001B[32m   1640\u001B[39m ):\n\u001B[32m   1641\u001B[39m     \u001B[38;5;66;03m# Repo not found or gated => let's raise the actual error\u001B[39;00m\n\u001B[32m   1642\u001B[39m     \u001B[38;5;66;03m# Unauthorized => likely a token issue => let's raise the actual error\u001B[39;00m\n\u001B[32m-> \u001B[39m\u001B[32m1643\u001B[39m     \u001B[38;5;28;01mraise\u001B[39;00m head_call_error\n\u001B[32m   1644\u001B[39m \u001B[38;5;28;01melse\u001B[39;00m:\n\u001B[32m   1645\u001B[39m     \u001B[38;5;66;03m# Otherwise: most likely a connection issue or Hub downtime => let's warn the user\u001B[39;00m\n",
      "\u001B[36mFile \u001B[39m\u001B[32m~\\.conda\\envs\\NLP\\Lib\\site-packages\\huggingface_hub\\file_download.py:1531\u001B[39m, in \u001B[36m_get_metadata_or_catch_error\u001B[39m\u001B[34m(repo_id, filename, repo_type, revision, endpoint, proxies, etag_timeout, headers, token, local_files_only, relative_filename, storage_folder)\u001B[39m\n\u001B[32m   1530\u001B[39m \u001B[38;5;28;01mtry\u001B[39;00m:\n\u001B[32m-> \u001B[39m\u001B[32m1531\u001B[39m     metadata = get_hf_file_metadata(\n\u001B[32m   1532\u001B[39m         url=url, proxies=proxies, timeout=etag_timeout, headers=headers, token=token\n\u001B[32m   1533\u001B[39m     )\n\u001B[32m   1534\u001B[39m \u001B[38;5;28;01mexcept\u001B[39;00m EntryNotFoundError \u001B[38;5;28;01mas\u001B[39;00m http_error:\n",
      "\u001B[36mFile \u001B[39m\u001B[32m~\\.conda\\envs\\NLP\\Lib\\site-packages\\huggingface_hub\\utils\\_validators.py:114\u001B[39m, in \u001B[36mvalidate_hf_hub_args.<locals>._inner_fn\u001B[39m\u001B[34m(*args, **kwargs)\u001B[39m\n\u001B[32m    112\u001B[39m     kwargs = smoothly_deprecate_use_auth_token(fn_name=fn.\u001B[34m__name__\u001B[39m, has_token=has_token, kwargs=kwargs)\n\u001B[32m--> \u001B[39m\u001B[32m114\u001B[39m \u001B[38;5;28;01mreturn\u001B[39;00m fn(*args, **kwargs)\n",
      "\u001B[36mFile \u001B[39m\u001B[32m~\\.conda\\envs\\NLP\\Lib\\site-packages\\huggingface_hub\\file_download.py:1448\u001B[39m, in \u001B[36mget_hf_file_metadata\u001B[39m\u001B[34m(url, token, proxies, timeout, library_name, library_version, user_agent, headers)\u001B[39m\n\u001B[32m   1447\u001B[39m \u001B[38;5;66;03m# Retrieve metadata\u001B[39;00m\n\u001B[32m-> \u001B[39m\u001B[32m1448\u001B[39m r = _request_wrapper(\n\u001B[32m   1449\u001B[39m     method=\u001B[33m\"\u001B[39m\u001B[33mHEAD\u001B[39m\u001B[33m\"\u001B[39m,\n\u001B[32m   1450\u001B[39m     url=url,\n\u001B[32m   1451\u001B[39m     headers=hf_headers,\n\u001B[32m   1452\u001B[39m     allow_redirects=\u001B[38;5;28;01mFalse\u001B[39;00m,\n\u001B[32m   1453\u001B[39m     follow_relative_redirects=\u001B[38;5;28;01mTrue\u001B[39;00m,\n\u001B[32m   1454\u001B[39m     proxies=proxies,\n\u001B[32m   1455\u001B[39m     timeout=timeout,\n\u001B[32m   1456\u001B[39m )\n\u001B[32m   1457\u001B[39m hf_raise_for_status(r)\n",
      "\u001B[36mFile \u001B[39m\u001B[32m~\\.conda\\envs\\NLP\\Lib\\site-packages\\huggingface_hub\\file_download.py:286\u001B[39m, in \u001B[36m_request_wrapper\u001B[39m\u001B[34m(method, url, follow_relative_redirects, **params)\u001B[39m\n\u001B[32m    285\u001B[39m \u001B[38;5;28;01mif\u001B[39;00m follow_relative_redirects:\n\u001B[32m--> \u001B[39m\u001B[32m286\u001B[39m     response = _request_wrapper(\n\u001B[32m    287\u001B[39m         method=method,\n\u001B[32m    288\u001B[39m         url=url,\n\u001B[32m    289\u001B[39m         follow_relative_redirects=\u001B[38;5;28;01mFalse\u001B[39;00m,\n\u001B[32m    290\u001B[39m         **params,\n\u001B[32m    291\u001B[39m     )\n\u001B[32m    293\u001B[39m     \u001B[38;5;66;03m# If redirection, we redirect only relative paths.\u001B[39;00m\n\u001B[32m    294\u001B[39m     \u001B[38;5;66;03m# This is useful in case of a renamed repository.\u001B[39;00m\n",
      "\u001B[36mFile \u001B[39m\u001B[32m~\\.conda\\envs\\NLP\\Lib\\site-packages\\huggingface_hub\\file_download.py:310\u001B[39m, in \u001B[36m_request_wrapper\u001B[39m\u001B[34m(method, url, follow_relative_redirects, **params)\u001B[39m\n\u001B[32m    309\u001B[39m response = http_backoff(method=method, url=url, **params, retry_on_exceptions=(), retry_on_status_codes=(\u001B[32m429\u001B[39m,))\n\u001B[32m--> \u001B[39m\u001B[32m310\u001B[39m hf_raise_for_status(response)\n\u001B[32m    311\u001B[39m \u001B[38;5;28;01mreturn\u001B[39;00m response\n",
      "\u001B[36mFile \u001B[39m\u001B[32m~\\.conda\\envs\\NLP\\Lib\\site-packages\\huggingface_hub\\utils\\_http.py:426\u001B[39m, in \u001B[36mhf_raise_for_status\u001B[39m\u001B[34m(response, endpoint_name)\u001B[39m\n\u001B[32m    423\u001B[39m     message = (\n\u001B[32m    424\u001B[39m         \u001B[33mf\u001B[39m\u001B[33m\"\u001B[39m\u001B[38;5;132;01m{\u001B[39;00mresponse.status_code\u001B[38;5;132;01m}\u001B[39;00m\u001B[33m Client Error.\u001B[39m\u001B[33m\"\u001B[39m + \u001B[33m\"\u001B[39m\u001B[38;5;130;01m\\n\u001B[39;00m\u001B[38;5;130;01m\\n\u001B[39;00m\u001B[33m\"\u001B[39m + \u001B[33mf\u001B[39m\u001B[33m\"\u001B[39m\u001B[33mCannot access gated repo for url \u001B[39m\u001B[38;5;132;01m{\u001B[39;00mresponse.url\u001B[38;5;132;01m}\u001B[39;00m\u001B[33m.\u001B[39m\u001B[33m\"\u001B[39m\n\u001B[32m    425\u001B[39m     )\n\u001B[32m--> \u001B[39m\u001B[32m426\u001B[39m     \u001B[38;5;28;01mraise\u001B[39;00m _format(GatedRepoError, message, response) \u001B[38;5;28;01mfrom\u001B[39;00m\u001B[38;5;250m \u001B[39m\u001B[34;01me\u001B[39;00m\n\u001B[32m    428\u001B[39m \u001B[38;5;28;01melif\u001B[39;00m error_message == \u001B[33m\"\u001B[39m\u001B[33mAccess to this resource is disabled.\u001B[39m\u001B[33m\"\u001B[39m:\n",
      "\u001B[31mGatedRepoError\u001B[39m: 403 Client Error. (Request ID: Root=1-6823048e-62f369cb0f82e3307e92dda7;69b67f4a-5cb4-48a0-934c-93b5fc359b69)\n\nCannot access gated repo for url https://huggingface.co/meta-llama/Llama-2-7b-hf/resolve/main/config.json.\nYour request to access model meta-llama/Llama-2-7b-hf has been rejected by the repo's authors.",
      "\nThe above exception was the direct cause of the following exception:\n",
      "\u001B[31mOSError\u001B[39m                                   Traceback (most recent call last)",
      "\u001B[36mCell\u001B[39m\u001B[36m \u001B[39m\u001B[32mIn[48]\u001B[39m\u001B[32m, line 3\u001B[39m\n\u001B[32m      1\u001B[39m \u001B[38;5;28;01mfrom\u001B[39;00m\u001B[38;5;250m \u001B[39m\u001B[34;01mtransformers\u001B[39;00m\u001B[38;5;250m \u001B[39m\u001B[38;5;28;01mimport\u001B[39;00m AutoModelForCausalLM\n\u001B[32m----> \u001B[39m\u001B[32m3\u001B[39m model = AutoModelForCausalLM.from_pretrained(\u001B[33m\"\u001B[39m\u001B[33mmeta-llama/Llama-2-7b-hf\u001B[39m\u001B[33m\"\u001B[39m, trust_remote_code=\u001B[38;5;28;01mTrue\u001B[39;00m)\n\u001B[32m      5\u001B[39m \u001B[38;5;66;03m# model = AutoModelForCausalLM.from_pretrained(args.model_name_or_path)\u001B[39;00m\n\u001B[32m      7\u001B[39m kwargs = \u001B[38;5;28mdict\u001B[39m(\n\u001B[32m      8\u001B[39m         model=model,\n\u001B[32m      9\u001B[39m         args=args,\n\u001B[32m   (...)\u001B[39m\u001B[32m     12\u001B[39m         data_collator=DataCollatorForSupervisedDataset(tokenizer),\n\u001B[32m     13\u001B[39m     )\n",
      "\u001B[36mFile \u001B[39m\u001B[32m~\\.conda\\envs\\NLP\\Lib\\site-packages\\transformers\\models\\auto\\auto_factory.py:531\u001B[39m, in \u001B[36m_BaseAutoModelClass.from_pretrained\u001B[39m\u001B[34m(cls, pretrained_model_name_or_path, *model_args, **kwargs)\u001B[39m\n\u001B[32m    528\u001B[39m \u001B[38;5;28;01mif\u001B[39;00m kwargs.get(\u001B[33m\"\u001B[39m\u001B[33mquantization_config\u001B[39m\u001B[33m\"\u001B[39m, \u001B[38;5;28;01mNone\u001B[39;00m) \u001B[38;5;129;01mis\u001B[39;00m \u001B[38;5;129;01mnot\u001B[39;00m \u001B[38;5;28;01mNone\u001B[39;00m:\n\u001B[32m    529\u001B[39m     _ = kwargs.pop(\u001B[33m\"\u001B[39m\u001B[33mquantization_config\u001B[39m\u001B[33m\"\u001B[39m)\n\u001B[32m--> \u001B[39m\u001B[32m531\u001B[39m config, kwargs = AutoConfig.from_pretrained(\n\u001B[32m    532\u001B[39m     pretrained_model_name_or_path,\n\u001B[32m    533\u001B[39m     return_unused_kwargs=\u001B[38;5;28;01mTrue\u001B[39;00m,\n\u001B[32m    534\u001B[39m     trust_remote_code=trust_remote_code,\n\u001B[32m    535\u001B[39m     code_revision=code_revision,\n\u001B[32m    536\u001B[39m     _commit_hash=commit_hash,\n\u001B[32m    537\u001B[39m     **hub_kwargs,\n\u001B[32m    538\u001B[39m     **kwargs,\n\u001B[32m    539\u001B[39m )\n\u001B[32m    541\u001B[39m \u001B[38;5;66;03m# if torch_dtype=auto was passed here, ensure to pass it on\u001B[39;00m\n\u001B[32m    542\u001B[39m \u001B[38;5;28;01mif\u001B[39;00m kwargs_orig.get(\u001B[33m\"\u001B[39m\u001B[33mtorch_dtype\u001B[39m\u001B[33m\"\u001B[39m, \u001B[38;5;28;01mNone\u001B[39;00m) == \u001B[33m\"\u001B[39m\u001B[33mauto\u001B[39m\u001B[33m\"\u001B[39m:\n",
      "\u001B[36mFile \u001B[39m\u001B[32m~\\.conda\\envs\\NLP\\Lib\\site-packages\\transformers\\models\\auto\\configuration_auto.py:1114\u001B[39m, in \u001B[36mAutoConfig.from_pretrained\u001B[39m\u001B[34m(cls, pretrained_model_name_or_path, **kwargs)\u001B[39m\n\u001B[32m   1111\u001B[39m trust_remote_code = kwargs.pop(\u001B[33m\"\u001B[39m\u001B[33mtrust_remote_code\u001B[39m\u001B[33m\"\u001B[39m, \u001B[38;5;28;01mNone\u001B[39;00m)\n\u001B[32m   1112\u001B[39m code_revision = kwargs.pop(\u001B[33m\"\u001B[39m\u001B[33mcode_revision\u001B[39m\u001B[33m\"\u001B[39m, \u001B[38;5;28;01mNone\u001B[39;00m)\n\u001B[32m-> \u001B[39m\u001B[32m1114\u001B[39m config_dict, unused_kwargs = PretrainedConfig.get_config_dict(pretrained_model_name_or_path, **kwargs)\n\u001B[32m   1115\u001B[39m has_remote_code = \u001B[33m\"\u001B[39m\u001B[33mauto_map\u001B[39m\u001B[33m\"\u001B[39m \u001B[38;5;129;01min\u001B[39;00m config_dict \u001B[38;5;129;01mand\u001B[39;00m \u001B[33m\"\u001B[39m\u001B[33mAutoConfig\u001B[39m\u001B[33m\"\u001B[39m \u001B[38;5;129;01min\u001B[39;00m config_dict[\u001B[33m\"\u001B[39m\u001B[33mauto_map\u001B[39m\u001B[33m\"\u001B[39m]\n\u001B[32m   1116\u001B[39m has_local_code = \u001B[33m\"\u001B[39m\u001B[33mmodel_type\u001B[39m\u001B[33m\"\u001B[39m \u001B[38;5;129;01min\u001B[39;00m config_dict \u001B[38;5;129;01mand\u001B[39;00m config_dict[\u001B[33m\"\u001B[39m\u001B[33mmodel_type\u001B[39m\u001B[33m\"\u001B[39m] \u001B[38;5;129;01min\u001B[39;00m CONFIG_MAPPING\n",
      "\u001B[36mFile \u001B[39m\u001B[32m~\\.conda\\envs\\NLP\\Lib\\site-packages\\transformers\\configuration_utils.py:590\u001B[39m, in \u001B[36mPretrainedConfig.get_config_dict\u001B[39m\u001B[34m(cls, pretrained_model_name_or_path, **kwargs)\u001B[39m\n\u001B[32m    588\u001B[39m original_kwargs = copy.deepcopy(kwargs)\n\u001B[32m    589\u001B[39m \u001B[38;5;66;03m# Get config dict associated with the base config file\u001B[39;00m\n\u001B[32m--> \u001B[39m\u001B[32m590\u001B[39m config_dict, kwargs = \u001B[38;5;28mcls\u001B[39m._get_config_dict(pretrained_model_name_or_path, **kwargs)\n\u001B[32m    591\u001B[39m \u001B[38;5;28;01mif\u001B[39;00m config_dict \u001B[38;5;129;01mis\u001B[39;00m \u001B[38;5;28;01mNone\u001B[39;00m:\n\u001B[32m    592\u001B[39m     \u001B[38;5;28;01mreturn\u001B[39;00m {}, kwargs\n",
      "\u001B[36mFile \u001B[39m\u001B[32m~\\.conda\\envs\\NLP\\Lib\\site-packages\\transformers\\configuration_utils.py:649\u001B[39m, in \u001B[36mPretrainedConfig._get_config_dict\u001B[39m\u001B[34m(cls, pretrained_model_name_or_path, **kwargs)\u001B[39m\n\u001B[32m    645\u001B[39m configuration_file = kwargs.pop(\u001B[33m\"\u001B[39m\u001B[33m_configuration_file\u001B[39m\u001B[33m\"\u001B[39m, CONFIG_NAME) \u001B[38;5;28;01mif\u001B[39;00m gguf_file \u001B[38;5;129;01mis\u001B[39;00m \u001B[38;5;28;01mNone\u001B[39;00m \u001B[38;5;28;01melse\u001B[39;00m gguf_file\n\u001B[32m    647\u001B[39m \u001B[38;5;28;01mtry\u001B[39;00m:\n\u001B[32m    648\u001B[39m     \u001B[38;5;66;03m# Load from local folder or from cache or download from model Hub and cache\u001B[39;00m\n\u001B[32m--> \u001B[39m\u001B[32m649\u001B[39m     resolved_config_file = cached_file(\n\u001B[32m    650\u001B[39m         pretrained_model_name_or_path,\n\u001B[32m    651\u001B[39m         configuration_file,\n\u001B[32m    652\u001B[39m         cache_dir=cache_dir,\n\u001B[32m    653\u001B[39m         force_download=force_download,\n\u001B[32m    654\u001B[39m         proxies=proxies,\n\u001B[32m    655\u001B[39m         resume_download=resume_download,\n\u001B[32m    656\u001B[39m         local_files_only=local_files_only,\n\u001B[32m    657\u001B[39m         token=token,\n\u001B[32m    658\u001B[39m         user_agent=user_agent,\n\u001B[32m    659\u001B[39m         revision=revision,\n\u001B[32m    660\u001B[39m         subfolder=subfolder,\n\u001B[32m    661\u001B[39m         _commit_hash=commit_hash,\n\u001B[32m    662\u001B[39m     )\n\u001B[32m    663\u001B[39m     \u001B[38;5;28;01mif\u001B[39;00m resolved_config_file \u001B[38;5;129;01mis\u001B[39;00m \u001B[38;5;28;01mNone\u001B[39;00m:\n\u001B[32m    664\u001B[39m         \u001B[38;5;28;01mreturn\u001B[39;00m \u001B[38;5;28;01mNone\u001B[39;00m, kwargs\n",
      "\u001B[36mFile \u001B[39m\u001B[32m~\\.conda\\envs\\NLP\\Lib\\site-packages\\transformers\\utils\\hub.py:266\u001B[39m, in \u001B[36mcached_file\u001B[39m\u001B[34m(path_or_repo_id, filename, **kwargs)\u001B[39m\n\u001B[32m    208\u001B[39m \u001B[38;5;28;01mdef\u001B[39;00m\u001B[38;5;250m \u001B[39m\u001B[34mcached_file\u001B[39m(\n\u001B[32m    209\u001B[39m     path_or_repo_id: Union[\u001B[38;5;28mstr\u001B[39m, os.PathLike],\n\u001B[32m    210\u001B[39m     filename: \u001B[38;5;28mstr\u001B[39m,\n\u001B[32m    211\u001B[39m     **kwargs,\n\u001B[32m    212\u001B[39m ) -> Optional[\u001B[38;5;28mstr\u001B[39m]:\n\u001B[32m    213\u001B[39m \u001B[38;5;250m    \u001B[39m\u001B[33;03m\"\"\"\u001B[39;00m\n\u001B[32m    214\u001B[39m \u001B[33;03m    Tries to locate a file in a local folder and repo, downloads and cache it if necessary.\u001B[39;00m\n\u001B[32m    215\u001B[39m \n\u001B[32m   (...)\u001B[39m\u001B[32m    264\u001B[39m \u001B[33;03m    ```\u001B[39;00m\n\u001B[32m    265\u001B[39m \u001B[33;03m    \"\"\"\u001B[39;00m\n\u001B[32m--> \u001B[39m\u001B[32m266\u001B[39m     file = cached_files(path_or_repo_id=path_or_repo_id, filenames=[filename], **kwargs)\n\u001B[32m    267\u001B[39m     file = file[\u001B[32m0\u001B[39m] \u001B[38;5;28;01mif\u001B[39;00m file \u001B[38;5;129;01mis\u001B[39;00m \u001B[38;5;129;01mnot\u001B[39;00m \u001B[38;5;28;01mNone\u001B[39;00m \u001B[38;5;28;01melse\u001B[39;00m file\n\u001B[32m    268\u001B[39m     \u001B[38;5;28;01mreturn\u001B[39;00m file\n",
      "\u001B[36mFile \u001B[39m\u001B[32m~\\.conda\\envs\\NLP\\Lib\\site-packages\\transformers\\utils\\hub.py:481\u001B[39m, in \u001B[36mcached_files\u001B[39m\u001B[34m(path_or_repo_id, filenames, cache_dir, force_download, resume_download, proxies, token, revision, local_files_only, subfolder, repo_type, user_agent, _raise_exceptions_for_gated_repo, _raise_exceptions_for_missing_entries, _raise_exceptions_for_connection_errors, _commit_hash, **deprecated_kwargs)\u001B[39m\n\u001B[32m    479\u001B[39m     \u001B[38;5;28;01mif\u001B[39;00m \u001B[38;5;129;01mnot\u001B[39;00m _raise_exceptions_for_gated_repo:\n\u001B[32m    480\u001B[39m         \u001B[38;5;28;01mreturn\u001B[39;00m \u001B[38;5;28;01mNone\u001B[39;00m\n\u001B[32m--> \u001B[39m\u001B[32m481\u001B[39m     \u001B[38;5;28;01mraise\u001B[39;00m \u001B[38;5;167;01mOSError\u001B[39;00m(\n\u001B[32m    482\u001B[39m         \u001B[33m\"\u001B[39m\u001B[33mYou are trying to access a gated repo.\u001B[39m\u001B[38;5;130;01m\\n\u001B[39;00m\u001B[33mMake sure to have access to it at \u001B[39m\u001B[33m\"\u001B[39m\n\u001B[32m    483\u001B[39m         \u001B[33mf\u001B[39m\u001B[33m\"\u001B[39m\u001B[33mhttps://huggingface.co/\u001B[39m\u001B[38;5;132;01m{\u001B[39;00mpath_or_repo_id\u001B[38;5;132;01m}\u001B[39;00m\u001B[33m.\u001B[39m\u001B[38;5;130;01m\\n\u001B[39;00m\u001B[38;5;132;01m{\u001B[39;00m\u001B[38;5;28mstr\u001B[39m(e)\u001B[38;5;132;01m}\u001B[39;00m\u001B[33m\"\u001B[39m\n\u001B[32m    484\u001B[39m     ) \u001B[38;5;28;01mfrom\u001B[39;00m\u001B[38;5;250m \u001B[39m\u001B[34;01me\u001B[39;00m\n\u001B[32m    485\u001B[39m \u001B[38;5;28;01melif\u001B[39;00m \u001B[38;5;28misinstance\u001B[39m(e, LocalEntryNotFoundError):\n\u001B[32m    486\u001B[39m     \u001B[38;5;28;01mif\u001B[39;00m \u001B[38;5;129;01mnot\u001B[39;00m _raise_exceptions_for_connection_errors:\n",
      "\u001B[31mOSError\u001B[39m: You are trying to access a gated repo.\nMake sure to have access to it at https://huggingface.co/meta-llama/Llama-2-7b-hf.\n403 Client Error. (Request ID: Root=1-6823048e-62f369cb0f82e3307e92dda7;69b67f4a-5cb4-48a0-934c-93b5fc359b69)\n\nCannot access gated repo for url https://huggingface.co/meta-llama/Llama-2-7b-hf/resolve/main/config.json.\nYour request to access model meta-llama/Llama-2-7b-hf has been rejected by the repo's authors."
     ]
    }
   ],
   "execution_count": 48
  }
 ],
 "metadata": {
  "kernelspec": {
   "display_name": "base",
   "language": "python",
   "name": "python3"
  },
  "language_info": {
   "codemirror_mode": {
    "name": "ipython",
    "version": 3
   },
   "file_extension": ".py",
   "mimetype": "text/x-python",
   "name": "python",
   "nbconvert_exporter": "python",
   "pygments_lexer": "ipython3",
   "version": "3.11.5"
  }
 },
 "nbformat": 4,
 "nbformat_minor": 5
}
