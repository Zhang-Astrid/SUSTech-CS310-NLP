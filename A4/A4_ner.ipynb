{
 "cells": [
  {
   "cell_type": "markdown",
   "metadata": {},
   "source": [
    "## CS310 Natural Language Processing\n",
    "## Assignment 4. Long Short Term Memory (LSTM) Network for Named Entity Recognition (NER)\n",
    "\n",
    "**Total points**: 50 + (10 bonus)\n",
    "\n",
    "In this assignment, you will implement a Long Short Term Memory (LSTM) network for Named Entity Recognition (NER). \n",
    "\n",
    "Re-use the code in Lab 5."
   ]
  },
  {
   "cell_type": "markdown",
   "metadata": {},
   "source": "### 0. Import Necessary Libraries"
  },
  {
   "cell_type": "code",
   "metadata": {
    "ExecuteTime": {
     "end_time": "2025-04-08T14:45:48.307866Z",
     "start_time": "2025-04-08T14:45:46.778998Z"
    }
   },
   "source": [
    "from pprint import pprint\n",
    "import torch.nn as nn\n",
    "import torch.nn.functional as F\n",
    "import torch\n",
    "from torch.utils.data import Dataset\n",
    "from torch.nn.utils.rnn import pad_sequence\n",
    "from utils import Indexer, read_ner_data_from_connl, get_batch\n",
    "import matplotlib.pyplot as plt\n",
    "from tqdm import tqdm\n",
    "from utils import get_tag_indices_from_scores\n",
    "from metrics import MetricsHandler"
   ],
   "outputs": [],
   "execution_count": 1
  },
  {
   "metadata": {
    "ExecuteTime": {
     "end_time": "2025-04-08T14:45:48.314290Z",
     "start_time": "2025-04-08T14:45:48.310183Z"
    }
   },
   "cell_type": "code",
   "source": [
    "TRAIN_PATH = 'data/train.txt'\n",
    "DEV_PATH = 'data/dev.txt'\n",
    "TEST_PATH = 'data/test.txt'\n",
    "EMBEDDINGS_PATH = 'data/glove.6B.100d.txt'\n",
    "# Download from https://nlp.stanford.edu/data/glove.6B.zip\n",
    "# It includes dimension 50, 100, 200, and 300."
   ],
   "outputs": [],
   "execution_count": 2
  },
  {
   "metadata": {
    "ExecuteTime": {
     "end_time": "2025-04-08T14:45:48.539778Z",
     "start_time": "2025-04-08T14:45:48.315446Z"
    }
   },
   "cell_type": "code",
   "source": [
    "train_words, train_tags = read_ner_data_from_connl(TRAIN_PATH)\n",
    "dev_words, dev_tags = read_ner_data_from_connl(DEV_PATH)\n",
    "test_words, test_tags = read_ner_data_from_connl(TEST_PATH)\n",
    "train_words = [word.lower() for word in train_words]\n",
    "dev_words = [word.lower() for word in dev_words]\n",
    "test_words = [word.lower() for word in test_words]\n",
    "print('train words size:', len(train_words))\n",
    "print('dev words size:', len(dev_words))\n",
    "print('test words size:', len(test_words))"
   ],
   "outputs": [
    {
     "name": "stdout",
     "output_type": "stream",
     "text": [
      "train words size: 203621\n",
      "dev words size: 51362\n",
      "test words size: 46435\n"
     ]
    }
   ],
   "execution_count": 3
  },
  {
   "metadata": {
    "ExecuteTime": {
     "end_time": "2025-04-08T14:45:48.546278Z",
     "start_time": "2025-04-08T14:45:48.542239Z"
    }
   },
   "cell_type": "code",
   "source": [
    "print(train_words[:10])\n",
    "print(train_tags[:10])"
   ],
   "outputs": [
    {
     "name": "stdout",
     "output_type": "stream",
     "text": [
      "['eu', 'rejects', 'german', 'call', 'to', 'boycott', 'british', 'lamb', '.', 'peter']\n",
      "['B-ORG', 'O', 'B-MISC', 'O', 'O', 'O', 'B-MISC', 'O', 'O', 'B-PER']\n"
     ]
    }
   ],
   "execution_count": 4
  },
  {
   "metadata": {
    "ExecuteTime": {
     "end_time": "2025-04-08T14:45:48.557131Z",
     "start_time": "2025-04-08T14:45:48.547804Z"
    }
   },
   "cell_type": "code",
   "source": "pprint(list(zip(train_words[:10], train_tags[:10])))",
   "outputs": [
    {
     "name": "stdout",
     "output_type": "stream",
     "text": [
      "[('eu', 'B-ORG'),\n",
      " ('rejects', 'O'),\n",
      " ('german', 'B-MISC'),\n",
      " ('call', 'O'),\n",
      " ('to', 'O'),\n",
      " ('boycott', 'O'),\n",
      " ('british', 'B-MISC'),\n",
      " ('lamb', 'O'),\n",
      " ('.', 'O'),\n",
      " ('peter', 'B-PER')]\n"
     ]
    }
   ],
   "execution_count": 5
  },
  {
   "metadata": {},
   "cell_type": "markdown",
   "source": "Build Vocab"
  },
  {
   "cell_type": "code",
   "metadata": {
    "ExecuteTime": {
     "end_time": "2025-04-08T14:45:48.642762Z",
     "start_time": "2025-04-08T14:45:48.558491Z"
    }
   },
   "source": [
    "indexer_train_words = Indexer(train_words)\n",
    "indexer_train_tags = Indexer(train_tags)\n",
    "indexer_dev_words = Indexer(dev_words)\n",
    "indexer_dev_tags = Indexer(dev_tags)\n",
    "indexer_test_words = Indexer(test_words)\n",
    "indexer_test_tags = Indexer(test_tags)\n",
    "# Test\n",
    "print('index of word \"the\":', indexer_train_words.element_to_index('the'))\n",
    "print('index of tag \"O\":', indexer_train_tags.element_to_index('O'))\n",
    "print('word with index 0:', indexer_train_words.index_to_element(0))\n",
    "print('word with index 100:', indexer_train_words.index_to_element(100))\n",
    "print('tag with index 0:', indexer_train_tags.index_to_element(0))\n",
    "print('tag with index 1:', indexer_train_tags.index_to_element(1))"
   ],
   "outputs": [
    {
     "name": "stdout",
     "output_type": "stream",
     "text": [
      "index of word \"the\": 14\n",
      "index of tag \"O\": 2\n",
      "word with index 0: <UNKNOWN>\n",
      "word with index 100: brains\n",
      "tag with index 0: <UNKNOWN>\n",
      "tag with index 1: B-ORG\n"
     ]
    }
   ],
   "execution_count": 6
  },
  {
   "metadata": {
    "ExecuteTime": {
     "end_time": "2025-04-08T14:45:48.737492Z",
     "start_time": "2025-04-08T14:45:48.644557Z"
    }
   },
   "cell_type": "code",
   "source": [
    "indexer_words = Indexer(train_words + dev_words + test_words)\n",
    "indexer_tags = Indexer(train_tags + dev_tags + test_tags)\n",
    "\n",
    "# Test\n",
    "print('sizes of indexers from all data:')\n",
    "print(len(indexer_words), len(indexer_tags))"
   ],
   "outputs": [
    {
     "name": "stdout",
     "output_type": "stream",
     "text": [
      "sizes of indexers from all data:\n",
      "26870 10\n"
     ]
    }
   ],
   "execution_count": 7
  },
  {
   "metadata": {},
   "cell_type": "markdown",
   "source": "Batching"
  },
  {
   "metadata": {
    "ExecuteTime": {
     "end_time": "2025-04-08T14:45:48.754725Z",
     "start_time": "2025-04-08T14:45:48.739149Z"
    }
   },
   "cell_type": "code",
   "source": [
    "class NERDataset(torch.utils.data.Dataset):\n",
    "    def __init__(self, words, tags, word_indexer, tag_indexer):\n",
    "        \"\"\"\n",
    "        words: List[str]  — 每个元素是一个句子的词序列\n",
    "        tags:  List[str]  — 每个元素是一个句子的标签序列\n",
    "        word_indexer: 提供 index_of(word) 的方法\n",
    "        tag_indexer:  提供 index_of(tag) 的方法\n",
    "        \"\"\"\n",
    "        self.words = words\n",
    "        self.tags = tags\n",
    "        self.word_indexer = word_indexer\n",
    "        self.tag_indexer = tag_indexer\n",
    "\n",
    "    def __len__(self):\n",
    "        return len(self.words)\n",
    "\n",
    "    def __getitem__(self, idx):\n",
    "        # print(\"idx: \",idx)\n",
    "        word_ids = self.word_indexer.element_to_index(self.words[idx])\n",
    "        tag_ids = self.tag_indexer.element_to_index(self.tags[idx])\n",
    "        return torch.tensor(word_ids), torch.tensor(tag_ids)"
   ],
   "outputs": [],
   "execution_count": 8
  },
  {
   "metadata": {
    "ExecuteTime": {
     "end_time": "2025-04-08T14:45:48.773990Z",
     "start_time": "2025-04-08T14:45:48.756347Z"
    }
   },
   "cell_type": "code",
   "source": [
    "# TRAIN\n",
    "train_dataset = NERDataset(train_words, train_tags, indexer_words, indexer_tags)\n",
    "train_loader = torch.utils.data.DataLoader(train_dataset, batch_size=32, shuffle=True)\n",
    "\n",
    "# DEV\n",
    "dev_dataset = NERDataset(dev_words, dev_tags, indexer_words, indexer_tags)\n",
    "dev_loader = torch.utils.data.DataLoader(dev_dataset, batch_size=32, shuffle=False)\n",
    "\n",
    "# TEST\n",
    "test_dataset = NERDataset(test_words, test_tags, indexer_words, indexer_tags)\n",
    "test_loader = torch.utils.data.DataLoader(test_dataset, batch_size=32, shuffle=False)\n"
   ],
   "outputs": [],
   "execution_count": 9
  },
  {
   "metadata": {
    "ExecuteTime": {
     "end_time": "2025-04-08T14:45:48.815602Z",
     "start_time": "2025-04-08T14:45:48.777040Z"
    }
   },
   "cell_type": "code",
   "source": [
    "def load_glove_embeddings(glove_path, word_indexer, embedding_dim=100):\n",
    "    vocab_size = len(word_indexer)\n",
    "    embeddings = torch.randn(vocab_size, embedding_dim) * 0.1  # 初始化为随机值\n",
    "    found = 0\n",
    "\n",
    "    with open(glove_path, 'r', encoding='utf-8') as f:\n",
    "        for line in f:\n",
    "            splits = line.strip().split()\n",
    "            word = splits[0]\n",
    "            vector = list(map(float, splits[1:]))\n",
    "            if word in word_indexer.get_element_to_index_dict():\n",
    "                idx = word_indexer.element_to_index(word)\n",
    "                embeddings[idx] = torch.tensor(vector)\n",
    "                found += 1\n",
    "\n",
    "    print(f\"Loaded {found} pretrained vectors from GloVe for vocab size {vocab_size}\")\n",
    "    return embeddings\n"
   ],
   "outputs": [],
   "execution_count": 10
  },
  {
   "metadata": {
    "ExecuteTime": {
     "end_time": "2025-04-08T14:45:57.185812Z",
     "start_time": "2025-04-08T14:45:48.817868Z"
    }
   },
   "cell_type": "code",
   "source": [
    "pretrained_embeddings = load_glove_embeddings(EMBEDDINGS_PATH, indexer_words, embedding_dim=100)\n",
    "\n",
    "embedding_layer = nn.Embedding(num_embeddings=len(indexer_words), embedding_dim=100)\n",
    "embedding_layer.weight.data.copy_(pretrained_embeddings)\n"
   ],
   "outputs": [
    {
     "name": "stdout",
     "output_type": "stream",
     "text": [
      "Loaded 22947 pretrained vectors from GloVe for vocab size 26870\n"
     ]
    },
    {
     "data": {
      "text/plain": [
       "tensor([[ 0.0201,  0.0135, -0.0670,  ..., -0.0078,  0.0029, -0.1063],\n",
       "        [-0.3271,  0.0825,  1.2561,  ...,  0.3043,  0.9338,  0.1089],\n",
       "        [ 0.0139,  0.7073,  0.8186,  ...,  0.1010,  0.7591,  0.3622],\n",
       "        ...,\n",
       "        [ 0.0568,  0.2734,  0.7063,  ..., -0.1658, -0.8528, -0.2504],\n",
       "        [-0.1335, -0.1020, -0.2034,  ...,  0.0824, -1.2875,  0.2823],\n",
       "        [ 0.0817, -0.0200,  0.0701,  ...,  0.0465,  0.0567, -0.0794]])"
      ]
     },
     "execution_count": 11,
     "metadata": {},
     "output_type": "execute_result"
    }
   ],
   "execution_count": 11
  },
  {
   "metadata": {},
   "cell_type": "markdown",
   "source": "### 1. Build the Model"
  },
  {
   "metadata": {
    "ExecuteTime": {
     "end_time": "2025-04-08T14:45:57.198483Z",
     "start_time": "2025-04-08T14:45:57.188766Z"
    }
   },
   "cell_type": "code",
   "source": [
    "class BiLSTMTagger(nn.Module):\n",
    "    def __init__(self, vocab_size, tagset_size, embedding_dim=100, hidden_dim=256, num_layers=2,\n",
    "                 pretrained_embeddings=None, freeze_embeddings=False):\n",
    "        super(BiLSTMTagger, self).__init__()\n",
    "        self.embedding = nn.Embedding(vocab_size, embedding_dim)\n",
    "        if pretrained_embeddings is not None:\n",
    "            self.embedding.weight.data.copy_(pretrained_embeddings)\n",
    "            self.embedding.weight.requires_grad = not freeze_embeddings\n",
    "\n",
    "        self.lstm = nn.LSTM(input_size=embedding_dim,\n",
    "                            hidden_size=hidden_dim,\n",
    "                            num_layers=num_layers,\n",
    "                            bidirectional=True,\n",
    "                            batch_first=True)\n",
    "\n",
    "        self.hidden2tag = nn.Linear(hidden_dim * 2, tagset_size)  # *2 because of bidirectional\n",
    "\n",
    "    def forward(self, x, mask=None):\n",
    "        # x: (batch_size, seq_len)\n",
    "        embeds = self.embedding(x)  # (batch_size, seq_len, embedding_dim)\n",
    "        lstm_out, _ = self.lstm(embeds)  # (batch_size, seq_len, hidden_dim*2)\n",
    "        tag_space = self.hidden2tag(lstm_out)  # (batch_size, seq_len, tagset_size)\n",
    "        # print(\"tag_space:\",tag_space)\n",
    "        tag_scores = torch.log_softmax(tag_space, dim=1)  # log probabilities\n",
    "        return tag_scores"
   ],
   "outputs": [],
   "execution_count": 12
  },
  {
   "cell_type": "markdown",
   "metadata": {},
   "source": [
    "### 2. Train and Evaluate"
   ]
  },
  {
   "cell_type": "code",
   "metadata": {
    "ExecuteTime": {
     "end_time": "2025-04-08T14:45:57.245299Z",
     "start_time": "2025-04-08T14:45:57.200648Z"
    }
   },
   "source": [
    "labels_str = ['O', 'B-PER', 'I-PER', 'B-ORG', 'I-ORG', 'B-LOC', 'I-LOC']\n",
    "labels_int = list(range(len(labels_str)))\n",
    "# 训练前先创建 MetricsHandler\n",
    "train_metrics = MetricsHandler(labels_int)\n",
    "dev_metrics = MetricsHandler(labels_int)\n",
    "test_metrics = MetricsHandler(labels_int)\n",
    "\n",
    "def evaluate_model(model, data_loader, loss_func, eval_metrics, device):\n",
    "    model.eval()\n",
    "    with torch.no_grad():\n",
    "        for inputs, targets in data_loader:\n",
    "            inputs, targets = inputs.to(device), targets.to(device)\n",
    "            output = model(inputs)\n",
    "\n",
    "            predictions = get_tag_indices_from_scores(output.cpu().numpy())\n",
    "            # print(\"predictions dtype:\", type(predictions))\n",
    "            targets_list = targets.cpu().numpy().tolist()\n",
    "            eval_metrics.update(predictions, targets_list)\n",
    "        eval_metrics.collect()\n",
    "    metrics = eval_metrics.get_metrics()\n",
    "    print(f\"[Eval] F1-score: {metrics['F1-score'][-1]:.4f}\")\n",
    "    return metrics\n",
    "\n",
    "def train_model(model, data_loader,dev_loader, optimizer, loss_func, train_metrics, num_epochs, device):\n",
    "    losses = []\n",
    "    for epoch in range(num_epochs):\n",
    "        model.train()\n",
    "        running_loss = 0.0\n",
    "        # train_metrics.collect()  # 每个 epoch 初始化统计表\n",
    "        for inputs, targets in tqdm(data_loader):\n",
    "            inputs, targets = inputs.to(device), targets.to(device)\n",
    "            optimizer.zero_grad()\n",
    "            # inputs, targets = batch.to # targets: (B, L)\n",
    "            # print(\"batch: \",batch)\n",
    "            output = model(inputs)  # output: (B, L, tag_size)\n",
    "\n",
    "            output_flat = output.view(-1, output.size(-1))  # (B*L, tag_size)\n",
    "            targets_flat = targets.view(-1)  # (B*L,)\n",
    "            loss = loss_func(output_flat, targets_flat)\n",
    "\n",
    "            loss.backward()\n",
    "            optimizer.step()\n",
    "\n",
    "            predictions = get_tag_indices_from_scores(output.detach().cpu().numpy())\n",
    "            # prev_tag = model.tag_embed(predictions)\n",
    "            targets_list = targets.detach().cpu().numpy().tolist()\n",
    "            # for pred_seq, true_seq in zip(predictions, targets_list):\n",
    "            train_metrics.update(predictions, targets_list)\n",
    "            running_loss += loss.item() * inputs.size(0)\n",
    "        train_metrics.collect()\n",
    "        epoch_loss = running_loss / len(data_loader)\n",
    "        losses.append(epoch_loss)\n",
    "        metrics = train_metrics.get_metrics()\n",
    "        print(f\"[Epoch {epoch + 1}] Loss: {epoch_loss:.4f} | F1: {metrics['F1-score'][-1]:.4f}\")\n",
    "        evaluate_model(model, dev_loader, loss_fn, dev_metrics, device)\n",
    "    return model, train_metrics, losses\n"
   ],
   "outputs": [],
   "execution_count": 13
  },
  {
   "metadata": {
    "ExecuteTime": {
     "end_time": "2025-04-08T14:45:57.280056Z",
     "start_time": "2025-04-08T14:45:57.247980Z"
    }
   },
   "cell_type": "code",
   "source": [
    "def plot_losses(losses):\n",
    "    plt.figure(figsize=(8, 5))\n",
    "    plt.plot(range(1, len(losses) + 1), losses, marker='o')\n",
    "    plt.title('Training Loss per Epoch')\n",
    "    plt.xlabel('Epoch')\n",
    "    plt.ylabel('Loss')\n",
    "    plt.xticks(range(len(losses) + 1))\n",
    "    plt.grid(True)\n",
    "    plt.show()"
   ],
   "outputs": [],
   "execution_count": 14
  },
  {
   "metadata": {
    "ExecuteTime": {
     "end_time": "2025-04-08T14:45:57.323471Z",
     "start_time": "2025-04-08T14:45:57.282487Z"
    }
   },
   "cell_type": "code",
   "source": [
    "def plot_f1_scores(f1_scores, title=\"F1-score per Epoch\"):\n",
    "    plt.figure(figsize=(8, 5))\n",
    "    plt.plot(range(1, len(f1_scores) + 1), f1_scores, marker='s', color='orange')\n",
    "    plt.title(title)\n",
    "    plt.xlabel(\"Epoch\")\n",
    "    plt.ylabel(\"F1-score\")\n",
    "    plt.ylim(0, 1.05)\n",
    "    plt.xticks(range(len(f1_scores) + 1))\n",
    "    plt.grid(True)\n",
    "    plt.show()"
   ],
   "outputs": [],
   "execution_count": 15
  },
  {
   "metadata": {
    "ExecuteTime": {
     "end_time": "2025-04-08T14:45:57.481137Z",
     "start_time": "2025-04-08T14:45:57.326146Z"
    }
   },
   "cell_type": "code",
   "source": [
    "model = BiLSTMTagger(\n",
    "    vocab_size=len(indexer_words),\n",
    "    tagset_size=len(indexer_tags),\n",
    "    embedding_dim=100,\n",
    "    hidden_dim=256,\n",
    "    num_layers=2,\n",
    "    pretrained_embeddings=pretrained_embeddings,\n",
    "    freeze_embeddings=False\n",
    ")"
   ],
   "outputs": [],
   "execution_count": 16
  },
  {
   "metadata": {
    "ExecuteTime": {
     "end_time": "2025-04-08T14:56:22.190668Z",
     "start_time": "2025-04-08T14:45:57.483526Z"
    }
   },
   "cell_type": "code",
   "source": [
    "epochs = 10\n",
    "learning_rate = 1e-3\n",
    "# 初始化\n",
    "# loss_fn = nn.NLLLoss(ignore_index=-1)\n",
    "loss_fn = nn.CrossEntropyLoss()\n",
    "optimizer = torch.optim.AdamW(model.parameters(), lr=learning_rate)\n",
    "\n",
    "device = torch.device(\"cuda\" if torch.cuda.is_available() else \"cpu\")\n",
    "model = model.to(device)\n",
    "\n",
    "import warnings\n",
    "warnings.filterwarnings('ignore', category=RuntimeWarning)\n",
    "# 训练模型（5轮）\n",
    "print(\"Training LSTM...\")\n",
    "model, train_metrics, losses = train_model(model, train_loader,dev_loader, optimizer, loss_fn, train_metrics, num_epochs=epochs, device=device)"
   ],
   "outputs": [
    {
     "name": "stdout",
     "output_type": "stream",
     "text": [
      "Training LSTM...\n"
     ]
    },
    {
     "name": "stderr",
     "output_type": "stream",
     "text": [
      "100%|██████████| 6364/6364 [01:00<00:00, 105.71it/s]\n"
     ]
    },
    {
     "name": "stdout",
     "output_type": "stream",
     "text": [
      "[Epoch 1] Loss: 7.7375 | F1: 0.7407\n",
      "[Eval] F1-score: 0.7690\n"
     ]
    },
    {
     "name": "stderr",
     "output_type": "stream",
     "text": [
      "100%|██████████| 6364/6364 [01:00<00:00, 105.10it/s]\n"
     ]
    },
    {
     "name": "stdout",
     "output_type": "stream",
     "text": [
      "[Epoch 2] Loss: 5.1610 | F1: 0.8224\n",
      "[Eval] F1-score: 0.7820\n"
     ]
    },
    {
     "name": "stderr",
     "output_type": "stream",
     "text": [
      "100%|██████████| 6364/6364 [00:57<00:00, 110.16it/s]\n"
     ]
    },
    {
     "name": "stdout",
     "output_type": "stream",
     "text": [
      "[Epoch 3] Loss: 4.4524 | F1: 0.8473\n",
      "[Eval] F1-score: 0.7847\n"
     ]
    },
    {
     "name": "stderr",
     "output_type": "stream",
     "text": [
      "100%|██████████| 6364/6364 [00:59<00:00, 107.83it/s]\n"
     ]
    },
    {
     "name": "stdout",
     "output_type": "stream",
     "text": [
      "[Epoch 4] Loss: 4.1459 | F1: 0.8596\n",
      "[Eval] F1-score: 0.7894\n"
     ]
    },
    {
     "name": "stderr",
     "output_type": "stream",
     "text": [
      "100%|██████████| 6364/6364 [00:57<00:00, 111.13it/s]\n"
     ]
    },
    {
     "name": "stdout",
     "output_type": "stream",
     "text": [
      "[Epoch 5] Loss: 3.9613 | F1: 0.8644\n",
      "[Eval] F1-score: 0.7691\n"
     ]
    },
    {
     "name": "stderr",
     "output_type": "stream",
     "text": [
      "100%|██████████| 6364/6364 [00:56<00:00, 112.01it/s]\n"
     ]
    },
    {
     "name": "stdout",
     "output_type": "stream",
     "text": [
      "[Epoch 6] Loss: 3.8820 | F1: 0.8649\n",
      "[Eval] F1-score: 0.7619\n"
     ]
    },
    {
     "name": "stderr",
     "output_type": "stream",
     "text": [
      "100%|██████████| 6364/6364 [00:58<00:00, 109.68it/s]\n"
     ]
    },
    {
     "name": "stdout",
     "output_type": "stream",
     "text": [
      "[Epoch 7] Loss: 3.8137 | F1: 0.8680\n",
      "[Eval] F1-score: 0.7764\n"
     ]
    },
    {
     "name": "stderr",
     "output_type": "stream",
     "text": [
      "100%|██████████| 6364/6364 [00:58<00:00, 109.31it/s]\n"
     ]
    },
    {
     "name": "stdout",
     "output_type": "stream",
     "text": [
      "[Epoch 8] Loss: 3.7820 | F1: 0.8675\n",
      "[Eval] F1-score: 0.7875\n"
     ]
    },
    {
     "name": "stderr",
     "output_type": "stream",
     "text": [
      "100%|██████████| 6364/6364 [00:54<00:00, 117.60it/s]\n"
     ]
    },
    {
     "name": "stdout",
     "output_type": "stream",
     "text": [
      "[Epoch 9] Loss: 3.7455 | F1: 0.8689\n",
      "[Eval] F1-score: 0.7943\n"
     ]
    },
    {
     "name": "stderr",
     "output_type": "stream",
     "text": [
      "100%|██████████| 6364/6364 [00:56<00:00, 111.77it/s]\n"
     ]
    },
    {
     "name": "stdout",
     "output_type": "stream",
     "text": [
      "[Epoch 10] Loss: 3.7187 | F1: 0.8712\n",
      "[Eval] F1-score: 0.7856\n"
     ]
    }
   ],
   "execution_count": 17
  },
  {
   "metadata": {
    "ExecuteTime": {
     "end_time": "2025-04-08T14:56:31.315667Z",
     "start_time": "2025-04-08T14:56:22.194091Z"
    }
   },
   "cell_type": "code",
   "source": [
    "# 在 dev set 上评估\n",
    "print(\"Evaluating LSTM on dev set...\")\n",
    "evaluate_model(model, dev_loader, loss_fn, dev_metrics, device)\n",
    "# 最后在 test set 上评估\n",
    "print(\"Evaluating LSTM on test set...\")\n",
    "evaluate_model(model, test_loader, loss_fn, test_metrics, device)\n",
    "# 从 train_metrics 拿出 F1 分数列表\n",
    "f1_scores = train_metrics.get_metrics()[\"F1-score\"]\n",
    "# 画图\n",
    "plot_losses(losses) # training loss\n",
    "plot_f1_scores(f1_scores) # f1 score of training"
   ],
   "outputs": [
    {
     "name": "stdout",
     "output_type": "stream",
     "text": [
      "Evaluating LSTM on dev set...\n",
      "[Eval] F1-score: 0.7856\n",
      "Evaluating LSTM on test set...\n",
      "[Eval] F1-score: 0.7146\n"
     ]
    },
    {
     "data": {
      "text/plain": [
       "<Figure size 800x500 with 1 Axes>"
      ],
      "image/png": "[encoded data removed]"
     },
     "metadata": {},
     "output_type": "display_data"
    },
    {
     "data": {
      "text/plain": [
       "<Figure size 800x500 with 1 Axes>"
      ],
      "image/png": "[encoded data removed]"
     },
     "metadata": {},
     "output_type": "display_data"
    }
   ],
   "execution_count": 18
  }
 ],
 "metadata": {
  "language_info": {
   "name": "python"
  },
  "kernelspec": {
   "name": "nnunet",
   "language": "python",
   "display_name": "ZS-nnU"
  }
 },
 "nbformat": 4,
 "nbformat_minor": 2
}
