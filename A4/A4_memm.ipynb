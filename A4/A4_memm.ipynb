{
 "cells": [
  {
   "cell_type": "markdown",
   "metadata": {},
   "source": [
    "## CS310 Natural Language Processing\n",
    "## Assignment 4. Long Short Term Memory (LSTM) Network for Named Entity Recognition (NER)\n",
    "\n",
    "**Total points**: 50 + (10 bonus)\n",
    "\n",
    "In this assignment, you will implement a Long Short Term Memory (LSTM) network for Named Entity Recognition (NER). \n",
    "\n",
    "Re-use the code in Lab 5."
   ]
  },
  {
   "metadata": {},
   "cell_type": "markdown",
   "source": "## Bonus1: MMEM"
  },
  {
   "metadata": {},
   "cell_type": "markdown",
   "source": "### 0. Import Necessary Libraries"
  },
  {
   "metadata": {},
   "cell_type": "code",
   "outputs": [],
   "execution_count": 2,
   "source": [
    "TRAIN_PATH = 'data/train.txt'\n",
    "DEV_PATH = 'data/dev.txt'\n",
    "TEST_PATH = 'data/test.txt'\n",
    "EMBEDDINGS_PATH = 'data/glove.6B.100d.txt'\n",
    "# Download from https://nlp.stanford.edu/data/glove.6B.zip\n",
    "# It includes dimension 50, 100, 200, and 300."
   ]
  },
  {
   "metadata": {},
   "cell_type": "code",
   "outputs": [],
   "execution_count": 1,
   "source": [
    "from pprint import pprint\n",
    "import torch.nn as nn\n",
    "import torch.nn.functional as F\n",
    "import torch\n",
    "from torch.utils.data import Dataset\n",
    "from torch.nn.utils.rnn import pad_sequence\n",
    "from utils import Indexer, read_ner_data_from_connl, get_batch\n",
    "import matplotlib.pyplot as plt\n",
    "from tqdm import tqdm\n",
    "from utils import get_tag_indices_from_scores\n",
    "from metrics import MetricsHandler"
   ]
  },
  {
   "metadata": {},
   "cell_type": "code",
   "outputs": [
    {
     "name": "stdout",
     "output_type": "stream",
     "text": [
      "train words size: 203621\n",
      "dev words size: 51362\n",
      "test words size: 46435\n"
     ]
    }
   ],
   "execution_count": 3,
   "source": [
    "train_words, train_tags = read_ner_data_from_connl(TRAIN_PATH)\n",
    "dev_words, dev_tags = read_ner_data_from_connl(DEV_PATH)\n",
    "test_words, test_tags = read_ner_data_from_connl(TEST_PATH)\n",
    "train_words = [word.lower() for word in train_words]\n",
    "dev_words = [word.lower() for word in dev_words]\n",
    "test_words = [word.lower() for word in test_words]\n",
    "print('train words size:', len(train_words))\n",
    "print('dev words size:', len(dev_words))\n",
    "print('test words size:', len(test_words))"
   ]
  },
  {
   "metadata": {},
   "cell_type": "code",
   "outputs": [
    {
     "name": "stdout",
     "output_type": "stream",
     "text": [
      "['eu', 'rejects', 'german', 'call', 'to', 'boycott', 'british', 'lamb', '.', 'peter']\n",
      "['B-ORG', 'O', 'B-MISC', 'O', 'O', 'O', 'B-MISC', 'O', 'O', 'B-PER']\n"
     ]
    }
   ],
   "execution_count": 4,
   "source": [
    "print(train_words[:10])\n",
    "print(train_tags[:10])"
   ]
  },
  {
   "metadata": {},
   "cell_type": "code",
   "outputs": [
    {
     "name": "stdout",
     "output_type": "stream",
     "text": [
      "[('eu', 'B-ORG'),\n",
      " ('rejects', 'O'),\n",
      " ('german', 'B-MISC'),\n",
      " ('call', 'O'),\n",
      " ('to', 'O'),\n",
      " ('boycott', 'O'),\n",
      " ('british', 'B-MISC'),\n",
      " ('lamb', 'O'),\n",
      " ('.', 'O'),\n",
      " ('peter', 'B-PER')]\n"
     ]
    }
   ],
   "execution_count": 5,
   "source": "pprint(list(zip(train_words[:10], train_tags[:10])))"
  },
  {
   "metadata": {},
   "cell_type": "markdown",
   "source": "Build Vocab"
  },
  {
   "metadata": {},
   "cell_type": "code",
   "outputs": [
    {
     "name": "stdout",
     "output_type": "stream",
     "text": [
      "index of word \"the\": 14\n",
      "index of tag \"O\": 2\n",
      "word with index 0: <UNKNOWN>\n",
      "word with index 100: brains\n",
      "tag with index 0: <UNKNOWN>\n",
      "tag with index 1: B-ORG\n"
     ]
    }
   ],
   "execution_count": 6,
   "source": [
    "indexer_train_words = Indexer(train_words)\n",
    "indexer_train_tags = Indexer(train_tags)\n",
    "indexer_dev_words = Indexer(dev_words)\n",
    "indexer_dev_tags = Indexer(dev_tags)\n",
    "indexer_test_words = Indexer(test_words)\n",
    "indexer_test_tags = Indexer(test_tags)\n",
    "# Test\n",
    "print('index of word \"the\":', indexer_train_words.element_to_index('the'))\n",
    "print('index of tag \"O\":', indexer_train_tags.element_to_index('O'))\n",
    "print('word with index 0:', indexer_train_words.index_to_element(0))\n",
    "print('word with index 100:', indexer_train_words.index_to_element(100))\n",
    "print('tag with index 0:', indexer_train_tags.index_to_element(0))\n",
    "print('tag with index 1:', indexer_train_tags.index_to_element(1))"
   ]
  },
  {
   "metadata": {},
   "cell_type": "code",
   "outputs": [
    {
     "name": "stdout",
     "output_type": "stream",
     "text": [
      "sizes of indexers from all data:\n",
      "26870 10\n"
     ]
    }
   ],
   "execution_count": 7,
   "source": [
    "indexer_words = Indexer(train_words + dev_words + test_words)\n",
    "indexer_tags = Indexer(train_tags + dev_tags + test_tags)\n",
    "\n",
    "# Test\n",
    "print('sizes of indexers from all data:')\n",
    "print(len(indexer_words), len(indexer_tags))"
   ]
  },
  {
   "metadata": {},
   "cell_type": "markdown",
   "source": "Batching"
  },
  {
   "metadata": {},
   "cell_type": "code",
   "outputs": [],
   "execution_count": 8,
   "source": [
    "class NERDataset(torch.utils.data.Dataset):\n",
    "    def __init__(self, words, tags, word_indexer, tag_indexer):\n",
    "        \"\"\"\n",
    "        words: List[str]  — 每个元素是一个句子的词序列\n",
    "        tags:  List[str]  — 每个元素是一个句子的标签序列\n",
    "        word_indexer: 提供 index_of(word) 的方法\n",
    "        tag_indexer:  提供 index_of(tag) 的方法\n",
    "        \"\"\"\n",
    "        self.words = words\n",
    "        self.tags = tags\n",
    "        self.word_indexer = word_indexer\n",
    "        self.tag_indexer = tag_indexer\n",
    "\n",
    "    def __len__(self):\n",
    "        return len(self.words)\n",
    "\n",
    "    def __getitem__(self, idx):\n",
    "        # print(\"idx: \",idx)\n",
    "        word_ids = self.word_indexer.element_to_index(self.words[idx])\n",
    "        tag_ids = self.tag_indexer.element_to_index(self.tags[idx])\n",
    "        return torch.tensor(word_ids), torch.tensor(tag_ids)"
   ]
  },
  {
   "metadata": {},
   "cell_type": "code",
   "outputs": [],
   "execution_count": 9,
   "source": [
    "# TRAIN\n",
    "train_dataset = NERDataset(train_words, train_tags, indexer_words, indexer_tags)\n",
    "train_loader = torch.utils.data.DataLoader(train_dataset, batch_size=32, shuffle=True)\n",
    "\n",
    "# DEV\n",
    "dev_dataset = NERDataset(dev_words, dev_tags, indexer_words, indexer_tags)\n",
    "dev_loader = torch.utils.data.DataLoader(dev_dataset, batch_size=32, shuffle=False)\n",
    "\n",
    "# TEST\n",
    "test_dataset = NERDataset(test_words, test_tags, indexer_words, indexer_tags)\n",
    "test_loader = torch.utils.data.DataLoader(test_dataset, batch_size=32, shuffle=False)\n"
   ]
  },
  {
   "metadata": {},
   "cell_type": "code",
   "outputs": [],
   "execution_count": 10,
   "source": [
    "def load_glove_embeddings(glove_path, word_indexer, embedding_dim=100):\n",
    "    vocab_size = len(word_indexer)\n",
    "    embeddings = torch.randn(vocab_size, embedding_dim) * 0.1  # 初始化为随机值\n",
    "    found = 0\n",
    "\n",
    "    with open(glove_path, 'r', encoding='utf-8') as f:\n",
    "        for line in f:\n",
    "            splits = line.strip().split()\n",
    "            word = splits[0]\n",
    "            vector = list(map(float, splits[1:]))\n",
    "            if word in word_indexer.get_element_to_index_dict():\n",
    "                idx = word_indexer.element_to_index(word)\n",
    "                embeddings[idx] = torch.tensor(vector)\n",
    "                found += 1\n",
    "\n",
    "    print(f\"Loaded {found} pretrained vectors from GloVe for vocab size {vocab_size}\")\n",
    "    return embeddings\n"
   ]
  },
  {
   "metadata": {},
   "cell_type": "code",
   "outputs": [
    {
     "name": "stdout",
     "output_type": "stream",
     "text": [
      "Loaded 22947 pretrained vectors from GloVe for vocab size 26870\n"
     ]
    },
    {
     "data": {
      "text/plain": [
       "tensor([[-2.5884e-01,  6.7199e-02,  1.3480e-01,  ...,  1.4986e-01,\n",
       "          1.2247e-01, -7.4011e-02],\n",
       "        [-3.2714e-01,  8.2503e-02,  1.2561e+00,  ...,  3.0425e-01,\n",
       "          9.3384e-01,  1.0894e-01],\n",
       "        [ 1.3857e-02,  7.0729e-01,  8.1856e-01,  ...,  1.0097e-01,\n",
       "          7.5907e-01,  3.6220e-01],\n",
       "        ...,\n",
       "        [ 5.6763e-02,  2.7335e-01,  7.0628e-01,  ..., -1.6578e-01,\n",
       "         -8.5282e-01, -2.5045e-01],\n",
       "        [-1.3346e-01, -1.0201e-01, -2.0342e-01,  ...,  8.2408e-02,\n",
       "         -1.2875e+00,  2.8229e-01],\n",
       "        [-4.6135e-02,  2.4201e-02,  9.4250e-02,  ..., -3.2971e-04,\n",
       "          2.0109e-01, -8.6816e-02]])"
      ]
     },
     "execution_count": 11,
     "metadata": {},
     "output_type": "execute_result"
    }
   ],
   "execution_count": 11,
   "source": [
    "pretrained_embeddings = load_glove_embeddings(EMBEDDINGS_PATH, indexer_words, embedding_dim=100)\n",
    "\n",
    "embedding_layer = nn.Embedding(num_embeddings=len(indexer_words), embedding_dim=100)\n",
    "embedding_layer.weight.data.copy_(pretrained_embeddings)\n"
   ]
  },
  {
   "metadata": {},
   "cell_type": "markdown",
   "source": "### 1. Build the Model"
  },
  {
   "metadata": {
    "ExecuteTime": {
     "end_time": "2025-04-08T14:07:57.808860Z",
     "start_time": "2025-04-08T14:07:57.793984Z"
    }
   },
   "cell_type": "code",
   "source": [
    "class MEMMTagger(nn.Module):\n",
    "    def __init__(\n",
    "            self,\n",
    "            vocab_size,\n",
    "            tagset_size,\n",
    "            embedding_dim=100,\n",
    "            hidden_dim=256,\n",
    "            pretrained_embeddings=None,\n",
    "            freeze_embeddings=False\n",
    "    ):\n",
    "        super(MEMMTagger, self).__init__()\n",
    "\n",
    "        if pretrained_embeddings is not None:\n",
    "            self.word_emb = nn.Embedding.from_pretrained(\n",
    "                embeddings=pretrained_embeddings,\n",
    "                freeze=freeze_embeddings\n",
    "            )\n",
    "            embedding_dim = pretrained_embeddings.size(1)  # 自动获取维度\n",
    "        else:\n",
    "            self.word_emb = nn.Embedding(vocab_size, embedding_dim)\n",
    "\n",
    "        self.tag_emb = nn.Embedding(tagset_size, 50)  # 标签嵌入\n",
    "        self.lstm = nn.LSTM(\n",
    "            input_size=embedding_dim,\n",
    "            hidden_size=hidden_dim,\n",
    "            batch_first=True,\n",
    "            bidirectional=True\n",
    "        )\n",
    "        self.hidden2tag = nn.Linear(hidden_dim * 2 + 50, tagset_size)\n",
    "\n",
    "    def forward(self, word_inputs, prev_tag_inputs):\n",
    "        word_embs = self.word_emb(word_inputs)  # (B, L, D)\n",
    "        prev_tag_embs = self.tag_emb(prev_tag_inputs)  # (B, L, 50)\n",
    "        lstm_out, _ = self.lstm(word_embs)  # (B, L, H*2)\n",
    "        combined = torch.cat([lstm_out, prev_tag_embs], dim=-1)  # (B, L, H*2 + 50)\n",
    "        tag_scores = torch.log_softmax(self.hidden2tag(combined), dim=-1)  # (B, L, tagset_size)\n",
    "\n",
    "        return tag_scores"
   ],
   "outputs": [],
   "execution_count": 55
  },
  {
   "metadata": {},
   "cell_type": "markdown",
   "source": "### 2. Train and Evaluate"
  },
  {
   "metadata": {
    "ExecuteTime": {
     "end_time": "2025-04-08T14:07:58.238021Z",
     "start_time": "2025-04-08T14:07:58.209828Z"
    }
   },
   "cell_type": "code",
   "source": [
    "labels_str = ['O', 'B-PER', 'I-PER', 'B-ORG', 'I-ORG', 'B-LOC', 'I-LOC']\n",
    "labels_int = list(range(len(labels_str)))\n",
    "# 训练前先创建 MetricsHandler\n",
    "train_metrics = MetricsHandler(labels_int)\n",
    "dev_metrics = MetricsHandler(labels_int)\n",
    "test_metrics = MetricsHandler(labels_int)\n",
    "\n",
    "def evaluate_model_MEMM(model, data_loader, loss_func, eval_metrics, device):\n",
    "    model.eval()\n",
    "    # eval_metrics.collect()  # 初始化评估指标\n",
    "    running_loss = 0.0\n",
    "\n",
    "    with torch.no_grad():\n",
    "        for words, tags in data_loader:\n",
    "            words, tags = words.to(device), tags.to(device)\n",
    "            # 使用真实标签作为prev_tag（teacher forcing）\n",
    "            prev_tags = torch.zeros_like(tags)\n",
    "            prev_tags[1:] = tags[:-1]\n",
    "            prev_tags[0] = 2  # 或者 tag2idx[\"<START>\"]\n",
    "\n",
    "            output = model(words, prev_tags)  # (B, L, tag_size)\n",
    "            output_flat = output.view(-1, output.size(-1))\n",
    "            tags_flat = tags.view(-1)\n",
    "            loss = loss_func(output_flat, tags_flat)\n",
    "            running_loss += loss.item() * words.size(0)\n",
    "\n",
    "            # 获取预测与真实标签\n",
    "            predictions = get_tag_indices_from_scores(output.cpu().numpy())\n",
    "            tags_list = tags.cpu().numpy().tolist()\n",
    "            eval_metrics.update(predictions, tags_list)\n",
    "        eval_metrics.collect()  # 初始化评估指标\n",
    "    epoch_loss = running_loss / len(data_loader)\n",
    "    metrics = eval_metrics.get_metrics()\n",
    "    print(f\"[Eval] Loss: {epoch_loss:.4f} | F1-score: {metrics['F1-score'][-1]:.4f}\")\n",
    "    return metrics\n",
    "\n",
    "def train_model_MEMM(model, data_loader,dev_loader, optimizer, loss_func, train_metrics, num_epochs, device):\n",
    "    losses = []\n",
    "    for epoch in range(num_epochs):\n",
    "        model.train()\n",
    "        running_loss = 0.0\n",
    "        # train_metrics.collect()  # 每个 epoch 初始化统计表\n",
    "        for words, tags in tqdm(data_loader):\n",
    "            words, tags = words.to(device), tags.to(device)\n",
    "            prev_tags = torch.zeros_like(tags)\n",
    "            prev_tags[1:] = tags[:-1]\n",
    "            prev_tags[0] = 2  # index of tag \"O\": 2\n",
    "            # 要用<start>吗？\n",
    "\n",
    "            optimizer.zero_grad()\n",
    "            output = model(words, prev_tags)  # output: (B, L, tag_size)\n",
    "            output_flat = output.view(-1, output.size(-1))  # (B*L, tag_size)\n",
    "            tags_flat = tags.view(-1)  # (B*L,)\n",
    "            loss = loss_func(output_flat, tags_flat)\n",
    "            loss.backward()\n",
    "            optimizer.step()\n",
    "\n",
    "            predictions = get_tag_indices_from_scores(output.detach().cpu().numpy())\n",
    "            # prev_tag = model.tag_embed(predictions)\n",
    "            tags_list = tags.detach().cpu().numpy().tolist()\n",
    "            # for pred_seq, true_seq in zip(predictions, tags_list):\n",
    "            train_metrics.update(predictions, tags_list)\n",
    "            running_loss += loss.item() * words.size(0)\n",
    "        train_metrics.collect()\n",
    "        epoch_loss = running_loss / len(data_loader)\n",
    "        losses.append(epoch_loss)\n",
    "        metrics = train_metrics.get_metrics()\n",
    "        print(f\"[Epoch {epoch + 1}] Loss: {epoch_loss:.4f} | F1: {metrics['F1-score'][-1]:.4f}\")\n",
    "        evaluate_model_MEMM(model=MEMMmodel,data_loader=dev_loader,loss_func=loss_fn,eval_metrics=dev_metrics,device=device)\n",
    "    return model, train_metrics, losses\n"
   ],
   "outputs": [],
   "execution_count": 56
  },
  {
   "metadata": {},
   "cell_type": "code",
   "outputs": [],
   "execution_count": null,
   "source": [
    "def plot_losses(losses):\n",
    "    plt.figure(figsize=(8, 5))\n",
    "    plt.plot(range(1, len(losses) + 1), losses, marker='o')\n",
    "    plt.title('Training Loss per Epoch')\n",
    "    plt.xlabel('Epoch')\n",
    "    plt.ylabel('Loss')\n",
    "    plt.xticks(range(len(losses) + 1))\n",
    "    plt.grid(True)\n",
    "    plt.show()"
   ]
  },
  {
   "metadata": {},
   "cell_type": "code",
   "outputs": [],
   "execution_count": null,
   "source": [
    "def plot_f1_scores(f1_scores, title=\"F1-score per Epoch\"):\n",
    "    plt.figure(figsize=(8, 5))\n",
    "    plt.plot(range(1, len(f1_scores) + 1), f1_scores, marker='s', color='orange')\n",
    "    plt.title(title)\n",
    "    plt.xlabel(\"Epoch\")\n",
    "    plt.ylabel(\"F1-score\")\n",
    "    plt.ylim(0, 1.05)\n",
    "    plt.xticks(range(len(f1_scores) + 1))\n",
    "    plt.grid(True)\n",
    "    plt.show()"
   ]
  },
  {
   "metadata": {
    "ExecuteTime": {
     "end_time": "2025-04-08T14:07:58.716582Z",
     "start_time": "2025-04-08T14:07:58.695556Z"
    }
   },
   "cell_type": "code",
   "source": [
    "MEMMmodel = MEMMTagger(\n",
    "    vocab_size=len(indexer_words),\n",
    "    tagset_size=len(indexer_tags),\n",
    "    embedding_dim=100,  # 会被自动覆盖为预训练维度\n",
    "    hidden_dim=256,\n",
    "    pretrained_embeddings=pretrained_embeddings,\n",
    "    freeze_embeddings=False\n",
    ")\n"
   ],
   "outputs": [],
   "execution_count": 57
  },
  {
   "metadata": {
    "ExecuteTime": {
     "end_time": "2025-04-08T14:14:50.523018Z",
     "start_time": "2025-04-08T14:07:59.514808Z"
    }
   },
   "cell_type": "code",
   "source": [
    "# 超参数\n",
    "epochs = 10\n",
    "batch_size = 32\n",
    "learning_rate = 1e-3\n",
    "\n",
    "# 损失函数（-1 可设为 pad 标签，若无 pad 可设为默认）\n",
    "loss_fn = nn.NLLLoss(ignore_index=-1)\n",
    "optimizer = torch.optim.Adam(MEMMmodel.parameters(), lr=learning_rate)\n",
    "\n",
    "# 设备选择\n",
    "device = torch.device(\"cuda\" if torch.cuda.is_available() else \"cpu\")\n",
    "MEMMmodel = MEMMmodel.to(device)\n",
    "\n",
    "# === 开始训练 ===\n",
    "print(\"Training MEMM...\")\n",
    "model, train_metrics, losses = train_model_MEMM(MEMMmodel, train_loader,dev_loader, optimizer, loss_fn, train_metrics, num_epochs=epochs,device=device)\n"
   ],
   "outputs": [
    {
     "name": "stdout",
     "output_type": "stream",
     "text": [
      "Training MEMM...\n"
     ]
    },
    {
     "name": "stderr",
     "output_type": "stream",
     "text": [
      "100%|██████████| 6364/6364 [00:36<00:00, 173.44it/s]\n"
     ]
    },
    {
     "name": "stdout",
     "output_type": "stream",
     "text": [
      "[Epoch 1] Loss: 7.7119 | F1: 0.7458\n",
      "[Eval] Loss: 6.2935 | F1-score: 0.8055\n"
     ]
    },
    {
     "name": "stderr",
     "output_type": "stream",
     "text": [
      "100%|██████████| 6364/6364 [00:37<00:00, 169.66it/s]\n"
     ]
    },
    {
     "name": "stdout",
     "output_type": "stream",
     "text": [
      "[Epoch 2] Loss: 5.0454 | F1: 0.8256\n",
      "[Eval] Loss: 6.5016 | F1-score: 0.7905\n"
     ]
    },
    {
     "name": "stderr",
     "output_type": "stream",
     "text": [
      "100%|██████████| 6364/6364 [00:37<00:00, 168.54it/s]\n"
     ]
    },
    {
     "name": "stdout",
     "output_type": "stream",
     "text": [
      "[Epoch 3] Loss: 4.3643 | F1: 0.8494\n",
      "[Eval] Loss: 6.6942 | F1-score: 0.7964\n"
     ]
    },
    {
     "name": "stderr",
     "output_type": "stream",
     "text": [
      "100%|██████████| 6364/6364 [00:32<00:00, 195.02it/s]\n"
     ]
    },
    {
     "name": "stdout",
     "output_type": "stream",
     "text": [
      "[Epoch 4] Loss: 4.0594 | F1: 0.8595\n",
      "[Eval] Loss: 7.0828 | F1-score: 0.7686\n"
     ]
    },
    {
     "name": "stderr",
     "output_type": "stream",
     "text": [
      "100%|██████████| 6364/6364 [00:36<00:00, 172.79it/s]\n"
     ]
    },
    {
     "name": "stdout",
     "output_type": "stream",
     "text": [
      "[Epoch 5] Loss: 3.9176 | F1: 0.8613\n",
      "[Eval] Loss: 6.8591 | F1-score: 0.8024\n"
     ]
    },
    {
     "name": "stderr",
     "output_type": "stream",
     "text": [
      "100%|██████████| 6364/6364 [00:42<00:00, 150.45it/s]\n"
     ]
    },
    {
     "name": "stdout",
     "output_type": "stream",
     "text": [
      "[Epoch 6] Loss: 3.8176 | F1: 0.8661\n",
      "[Eval] Loss: 6.9401 | F1-score: 0.7991\n"
     ]
    },
    {
     "name": "stderr",
     "output_type": "stream",
     "text": [
      "100%|██████████| 6364/6364 [00:40<00:00, 156.73it/s]\n"
     ]
    },
    {
     "name": "stdout",
     "output_type": "stream",
     "text": [
      "[Epoch 7] Loss: 3.7550 | F1: 0.8670\n",
      "[Eval] Loss: 7.0791 | F1-score: 0.7940\n"
     ]
    },
    {
     "name": "stderr",
     "output_type": "stream",
     "text": [
      "100%|██████████| 6364/6364 [00:42<00:00, 150.15it/s]\n"
     ]
    },
    {
     "name": "stdout",
     "output_type": "stream",
     "text": [
      "[Epoch 8] Loss: 3.7121 | F1: 0.8668\n",
      "[Eval] Loss: 7.2402 | F1-score: 0.7797\n"
     ]
    },
    {
     "name": "stderr",
     "output_type": "stream",
     "text": [
      "100%|██████████| 6364/6364 [00:36<00:00, 175.62it/s]\n"
     ]
    },
    {
     "name": "stdout",
     "output_type": "stream",
     "text": [
      "[Epoch 9] Loss: 3.6813 | F1: 0.8688\n",
      "[Eval] Loss: 7.2324 | F1-score: 0.7757\n"
     ]
    },
    {
     "name": "stderr",
     "output_type": "stream",
     "text": [
      "100%|██████████| 6364/6364 [00:36<00:00, 175.00it/s]\n"
     ]
    },
    {
     "name": "stdout",
     "output_type": "stream",
     "text": [
      "[Epoch 10] Loss: 3.6699 | F1: 0.8686\n",
      "[Eval] Loss: 7.2251 | F1-score: 0.7846\n"
     ]
    }
   ],
   "execution_count": 58
  },
  {
   "metadata": {
    "ExecuteTime": {
     "end_time": "2025-04-08T14:15:13.407394Z",
     "start_time": "2025-04-08T14:15:06.153588Z"
    }
   },
   "cell_type": "code",
   "source": [
    "# === 验证集评估 ===\n",
    "print(\"Evaluating MEMM on dev set...\")\n",
    "evaluate_model_MEMM(model=MEMMmodel,data_loader=dev_loader,loss_func=loss_fn,eval_metrics=dev_metrics,device=device)\n",
    "\n",
    "# === 测试集评估 ===\n",
    "print(\"Evaluating MEMM on test set...\")\n",
    "evaluate_model_MEMM(model=MEMMmodel,data_loader=test_loader,loss_func=loss_fn,eval_metrics=test_metrics,device=device)\n",
    "\n",
    "# === 提取训练 F1-score 并可视化 ===\n",
    "f1_scores = train_metrics.get_metrics()[\"F1-score\"]\n",
    "\n",
    "plot_losses(losses)\n",
    "plot_f1_scores(f1_scores)"
   ],
   "outputs": [
    {
     "name": "stdout",
     "output_type": "stream",
     "text": [
      "Evaluating MEMM on dev set...\n",
      "[Eval] Loss: 7.2251 | F1-score: 0.7846\n",
      "Evaluating MEMM on test set...\n",
      "[Eval] Loss: 8.9230 | F1-score: 0.7202\n"
     ]
    },
    {
     "data": {
      "text/plain": [
       "<Figure size 800x500 with 1 Axes>"
      ],
      "image/png": "[encoded data removed]"
     },
     "metadata": {},
     "output_type": "display_data"
    },
    {
     "data": {
      "text/plain": [
       "<Figure size 800x500 with 1 Axes>"
      ],
      "image/png": "[encoded data removed]"
     },
     "metadata": {},
     "output_type": "display_data"
    }
   ],
   "execution_count": 59
  }
 ],
 "metadata": {
  "language_info": {
   "name": "python"
  },
  "kernelspec": {
   "name": "nnunet",
   "language": "python",
   "display_name": "ZS-nnU"
  }
 },
 "nbformat": 4,
 "nbformat_minor": 2
}
