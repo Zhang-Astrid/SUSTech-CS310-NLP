{
 "cells": [
  {
   "cell_type": "markdown",
   "metadata": {},
   "source": [
    "## CS310 Natural Language Processing\n",
    "## Lab 11: Explore Natural Language Generation\n",
    "\n",
    "In this lab, we will practice using pre-trained transformer-based language models for natural language generation tasks."
   ]
  },
  {
   "cell_type": "code",
   "metadata": {
    "ExecuteTime": {
     "end_time": "2025-05-06T12:43:33.551915Z",
     "start_time": "2025-05-06T12:43:33.538928Z"
    }
   },
   "source": [
    "import torch\n",
    "import torch.nn.functional as F\n",
    "import random\n",
    "import numpy as np"
   ],
   "outputs": [],
   "execution_count": 80
  },
  {
   "cell_type": "markdown",
   "metadata": {},
   "source": [
    "## T1. Explore Pretrained GPT-2 Model\n",
    "\n",
    "In this task, you will explore the GPT-2 model using the `transformers` library.\n",
    "\n",
    "Just like in the previous lab, you will need to download the pretrained model and unzip it to `./gpt2zh`. \n",
    "\n",
    "Note that this is not the original version of GPT-2 provided by OpenAI (https://huggingface.co/openai-community/gpt2), but a fine-tuned version for Chinese text generation."
   ]
  },
  {
   "cell_type": "code",
   "metadata": {
    "ExecuteTime": {
     "end_time": "2025-05-06T12:43:34.098844Z",
     "start_time": "2025-05-06T12:43:33.681085Z"
    }
   },
   "source": [
    "from transformers import AutoTokenizer, GPT2LMHeadModel\n",
    "\n",
    "gpt2_tokenizer = AutoTokenizer.from_pretrained(\"./gpt2zh/\")\n",
    "gpt2_model = GPT2LMHeadModel.from_pretrained(\"./gpt2zh/\")\n",
    "# Evaluation mode\n",
    "# gpt2_model = gpt2_model.half()          # noGPU\n",
    "if torch.cuda.is_available():\n",
    "    gpt2_model = gpt2_model.to('cuda').half()\n",
    "else:\n",
    "    gpt2_model = gpt2_model.eval()\n",
    "print('vocab size:', gpt2_tokenizer.vocab_size)\n",
    "print(f'special token {gpt2_tokenizer.sep_token}:', gpt2_tokenizer.sep_token_id)\n",
    "print(f'special token {gpt2_tokenizer.cls_token}:', gpt2_tokenizer.cls_token_id)\n",
    "print(f'special token {gpt2_tokenizer.pad_token}:', gpt2_tokenizer.pad_token_id)\n",
    "\n",
    "# Use [SEP] as end-of-sentence token\n",
    "gpt2_model.config.eos_token_id = gpt2_tokenizer.sep_token_id"
   ],
   "outputs": [
    {
     "name": "stdout",
     "output_type": "stream",
     "text": [
      "vocab size: 21128\n",
      "special token [SEP]: 102\n",
      "special token [CLS]: 101\n",
      "special token [PAD]: 0\n"
     ]
    }
   ],
   "execution_count": 81
  },
  {
   "cell_type": "markdown",
   "metadata": {},
   "source": [
    "The tokenizer can return the token IDs and the attention mask that indicates which tokens are padding tokens (`1` for real tokens, `0` for padding tokens).\n",
    "\n",
    "Since we only have one sentence in the \"batch\", there is no padding used, and thus no `0` in the attention mask."
   ]
  },
  {
   "cell_type": "code",
   "metadata": {
    "ExecuteTime": {
     "end_time": "2025-05-06T12:43:34.209159Z",
     "start_time": "2025-05-06T12:43:34.196576Z"
    }
   },
   "source": [
    "input_text = '学而时习之，不亦说乎！'\n",
    "input_encoded = gpt2_tokenizer(input_text, return_tensors=\"pt\")\n",
    "\n",
    "print('input ids:', input_encoded['input_ids'])\n",
    "print('input attention mask:', input_encoded['attention_mask'])\n",
    "\n",
    "# Map token ids back to tokens\n",
    "print('input tokens:', gpt2_tokenizer.convert_ids_to_tokens(input_encoded['input_ids'][0]))"
   ],
   "outputs": [
    {
     "name": "stdout",
     "output_type": "stream",
     "text": [
      "input ids: tensor([[ 101, 2110, 5445, 3198,  739,  722, 8024,  679,  771, 6432,  725, 8013,\n",
      "          102]])\n",
      "input attention mask: tensor([[1, 1, 1, 1, 1, 1, 1, 1, 1, 1, 1, 1, 1]])\n",
      "input tokens: ['[CLS]', '学', '而', '时', '习', '之', '，', '不', '亦', '说', '乎', '！', '[SEP]']\n"
     ]
    }
   ],
   "execution_count": 82
  },
  {
   "cell_type": "markdown",
   "metadata": {},
   "source": [
    "It's easy to directly use the `generate` method to generate some sentences:"
   ]
  },
  {
   "cell_type": "code",
   "metadata": {
    "ExecuteTime": {
     "end_time": "2025-05-06T12:43:35.743961Z",
     "start_time": "2025-05-06T12:43:34.336589Z"
    }
   },
   "source": [
    "input_text = \"子曰：人\"\n",
    "input_encoded = gpt2_tokenizer(input_text, return_tensors=\"pt\", add_special_tokens=False)\n",
    "n_outputs = 5\n",
    "\n",
    "output = gpt2_model.generate(**input_encoded,\n",
    "                             max_length=20,\n",
    "                             num_return_sequences=n_outputs,\n",
    "                             do_sample=True,\n",
    "                             top_k=50,\n",
    "                             top_p=0.95,\n",
    "                             temperature=0.7,\n",
    "                             pad_token_id=0,\n",
    "                             )\n",
    "# print(type(output))\n",
    "# print(output.shape)\n",
    "\n",
    "for i in range(n_outputs):\n",
    "    output_text = gpt2_tokenizer.decode(output[i], skip_special_tokens=True)\n",
    "    print(output_text)"
   ],
   "outputs": [
    {
     "name": "stdout",
     "output_type": "stream",
     "text": [
      "子 曰 ： 人 生 就 是 生 命 。 不 要 为 了 一 个 不 幸 的 人\n",
      "子 曰 ： 人 类 的 本 性 ， 是 我 们 的 本 性 ， 是 我 们 的\n",
      "子 曰 ： 人 ， 为 国 家 之 所 用 ， 人 民 之 所 用 ， 国 家\n",
      "子 曰 ： 人 是 天 性 的 ， 人 是 天 性 的 。 所 以 人 是 天\n",
      "子 曰 ： 人 类 ， 都 是 一 个 民 族 ， 都 是 一 个 国 家 。\n"
     ]
    }
   ],
   "execution_count": 83
  },
  {
   "cell_type": "markdown",
   "metadata": {},
   "source": [
    "We can see that the generation is far from perfect. It still has good chances to produce a lot of repetitions.\n",
    "\n",
    "---"
   ]
  },
  {
   "cell_type": "markdown",
   "metadata": {},
   "source": [
    "## T2. Implement Top-k Sampling Manually\n",
    "\n",
    "Let's first try greedy search, i.e., top-1 sampling.\n",
    "\n",
    "*Hint*: Call `argmax()` on the logits; Use the `convert_ids_to_tokens()` method to convert the token ids to string."
   ]
  },
  {
   "cell_type": "code",
   "metadata": {
    "ExecuteTime": {
     "end_time": "2025-05-06T12:43:35.945487Z",
     "start_time": "2025-05-06T12:43:35.848236Z"
    }
   },
   "source": [
    "input_text = \"今天天气\"\n",
    "input_encoded = gpt2_tokenizer(input_text, return_tensors=\"pt\", add_special_tokens=False)\n",
    "print('input size:', input_encoded.input_ids.shape[1])\n",
    "\n",
    "output = gpt2_model(input_encoded.input_ids,\n",
    "                    attention_mask=input_encoded.attention_mask)\n",
    "logits = output.logits\n",
    "print(logits.shape)\n",
    "\n",
    "### START YOUR CODE ###\n",
    "# Get the probability distribution predicted at the last token's position\n",
    "last_token_logits = logits[0, -1, :]  # Get logits for the last token position\n",
    "\n",
    "# Get the most likely token id from this distribution\n",
    "most_likely_token_id = torch.argmax(last_token_logits).item()\n",
    "### END YOUR CODE ###\n",
    "\n",
    "# Convert the token id to a token\n",
    "most_likely_token = gpt2_tokenizer.convert_ids_to_tokens(most_likely_token_id)\n",
    "print(most_likely_token)\n",
    "\n",
    "# You should expect to see the following output:\n",
    "# input size: 4\n",
    "# torch.Size([1, 4, 21128])\n",
    "# 预"
   ],
   "outputs": [
    {
     "name": "stdout",
     "output_type": "stream",
     "text": [
      "input size: 4\n",
      "torch.Size([1, 4, 21128])\n",
      "预\n"
     ]
    }
   ],
   "execution_count": 84
  },
  {
   "cell_type": "markdown",
   "metadata": {},
   "source": [
    "Once you are done with the above code, you can now implement the full generation loop: at each iteration, you select the most likely token and append it to the end input, and then feed the new input to the model for predicting the next token. \n",
    "\n",
    "The loop continues until `max_gen_len` is reached, or a `\"[SEP]\"` token is generated.\n",
    "\n",
    "**Note**: \n",
    "- Use `torch.cat` to append elements to input IDs\n",
    "- The `attn_mask` also needs be updated at each iteration."
   ]
  },
  {
   "cell_type": "code",
   "metadata": {
    "ExecuteTime": {
     "end_time": "2025-05-06T12:43:42.755462Z",
     "start_time": "2025-05-06T12:43:36.071522Z"
    }
   },
   "source": [
    "max_gen_len = 50\n",
    "\n",
    "input_text = \"今天天气\"\n",
    "input_encoded = gpt2_tokenizer(input_text, return_tensors=\"pt\", add_special_tokens=False)\n",
    "input_ids = input_encoded.input_ids\n",
    "attn_mask = input_encoded.attention_mask\n",
    "\n",
    "count = 0\n",
    "while count < max_gen_len:\n",
    "    output = gpt2_model(input_ids, attention_mask=attn_mask)\n",
    "    logits = output.logits\n",
    "\n",
    "    ### START YOUR CODE ###\n",
    "    last_token_logits = logits[0, -1, :]\n",
    "    sampled_token_id = torch.argmax(last_token_logits).item()\n",
    "    # 检查是否生成了[SEP]标记\n",
    "    if sampled_token_id == gpt2_tokenizer.sep_token_id:\n",
    "        break\n",
    "\n",
    "    new_token = torch.tensor([[sampled_token_id]], dtype=input_ids.dtype)\n",
    "    input_ids = torch.cat([input_ids, new_token], dim=1)  # Append the sampled token id to the input\n",
    "    attn_mask = torch.cat([attn_mask, torch.ones((1, 1))], dim=1)  # Increment the attention mask\n",
    "    ### END YOUR CODE ###\n",
    "\n",
    "    count += 1\n",
    "\n",
    "# Test\n",
    "SPECIAL_TOKEN_IDS = set([gpt2_tokenizer.sep_token_id,\n",
    "                         gpt2_tokenizer.cls_token_id,\n",
    "                         gpt2_tokenizer.pad_token_id,\n",
    "                         100])  # 100 for [UNK]\n",
    "\n",
    "# Decode the generated tokens ids\n",
    "for i in range(input_ids.shape[1]):\n",
    "    tok_id = input_ids[0, i].item()\n",
    "    # Skip the special tokens\n",
    "    if tok_id not in SPECIAL_TOKEN_IDS:\n",
    "        print(gpt2_tokenizer.convert_ids_to_tokens(input_ids[0, i].item()), end='')\n",
    "\n",
    "# You should expect to see the following output:\n",
    "# 今天天气预报：今天白天，我市阴天有小雨，气温：小雨转多云，气温：小雨转多云，气温：小雨转多云，气温：小雨转多"
   ],
   "outputs": [
    {
     "name": "stdout",
     "output_type": "stream",
     "text": [
      "今天天气预报：今天白天，我市阴天有小雨，气温：小雨转多云，气温：小雨转多云，气温：小雨转多云，气温：小雨转多"
     ]
    }
   ],
   "execution_count": 85
  },
  {
   "cell_type": "markdown",
   "metadata": {},
   "source": [
    "As you can see, greedy search results in very repetitive text.\n",
    "\n",
    "---"
   ]
  },
  {
   "cell_type": "markdown",
   "metadata": {},
   "source": [
    "Now, let's implement a `top-k` sampling algorithm.\n",
    "\n",
    "The idea is to **uniformly** sample from top-k most likely next tokens. PyTorch tensor provides a `topk` method to get the top-k values and indices. \n",
    "\n",
    "In the following example, you can check the **top 5** most likely words following the sentence \"今天天气\":"
   ]
  },
  {
   "cell_type": "code",
   "metadata": {
    "ExecuteTime": {
     "end_time": "2025-05-06T12:43:43.069782Z",
     "start_time": "2025-05-06T12:43:42.945838Z"
    }
   },
   "source": [
    "k = 5\n",
    "input_text = \"今天天气\"\n",
    "input_encoded = gpt2_tokenizer(input_text, return_tensors=\"pt\", add_special_tokens=False)\n",
    "input_ids = input_encoded.input_ids\n",
    "attn_mask = input_encoded.attention_mask\n",
    "\n",
    "output = gpt2_model(input_ids, attention_mask=attn_mask)\n",
    "logits = output.logits\n",
    "\n",
    "### START YOUR CODE ###\n",
    "last_token_logits = logits[0, -1, :]\n",
    "topk_logits, topk_indices = torch.topk(last_token_logits, k=k)\n",
    "### END YOUR CODE ###\n",
    "\n",
    "\n",
    "# Test\n",
    "print(topk_logits)\n",
    "print(topk_indices)\n",
    "\n",
    "for i in range(k):\n",
    "    tok_id = topk_indices[i].item()\n",
    "    print(gpt2_tokenizer.convert_ids_to_tokens(tok_id), end=' ')\n",
    "\n",
    "# You should expect to see the following output:\n",
    "# tensor([7.8924, 7.8550, 7.5893, 7.3502, 7.3069], grad_fn=<TopkBackward0>)\n",
    "# tensor([7564, 2523,  679, 1962, 6820])\n",
    "# 预 很 不 好 还 "
   ],
   "outputs": [
    {
     "name": "stdout",
     "output_type": "stream",
     "text": [
      "tensor([7.8924, 7.8550, 7.5893, 7.3502, 7.3069], grad_fn=<TopkBackward0>)\n",
      "tensor([7564, 2523,  679, 1962, 6820])\n",
      "预 很 不 好 还 "
     ]
    }
   ],
   "execution_count": 86
  },
  {
   "cell_type": "markdown",
   "metadata": {},
   "source": [
    "Next let's integrate the top-k sampling algorithm into the generation process. The uniform sampling can be implemented using `random.choices` among the top-k indices."
   ]
  },
  {
   "cell_type": "code",
   "metadata": {
    "ExecuteTime": {
     "end_time": "2025-05-06T12:43:43.210753Z",
     "start_time": "2025-05-06T12:43:43.198301Z"
    }
   },
   "source": [
    "def generate_topk_uniform(input_text, k=5, max_gen_len=50):\n",
    "    '''\n",
    "    Generate tokens from the top-k logits, and yield the sampled token id.\n",
    "    Tokens are sampled from a naive uniform distribution.\n",
    "    '''\n",
    "    input_encoded = gpt2_tokenizer(input_text, return_tensors=\"pt\", add_special_tokens=False)\n",
    "    input_ids = input_encoded.input_ids\n",
    "    attn_mask = input_encoded.attention_mask\n",
    "\n",
    "    count = 0\n",
    "    while count < max_gen_len:\n",
    "        output = gpt2_model(input_ids, attention_mask=attn_mask)\n",
    "        logits = output.logits\n",
    "\n",
    "        ### START YOUR CODE ###\n",
    "        last_token_logits = logits[0, -1, :]\n",
    "        topk_logits, topk_indices = torch.topk(last_token_logits, k=k)\n",
    "\n",
    "        sampled_token_id = random.choices(topk_indices.tolist())[0]\n",
    "        yield sampled_token_id\n",
    "        if sampled_token_id == gpt2_tokenizer.sep_token_id:\n",
    "            break\n",
    "\n",
    "        input_ids = torch.cat([input_ids, torch.tensor([[sampled_token_id]], dtype=input_ids.dtype)], dim=1)\n",
    "        attn_mask = torch.cat([attn_mask, torch.ones((1, 1))], dim=1)\n",
    "        ### END YOUR CODE ###\n",
    "\n",
    "        count += 1"
   ],
   "outputs": [],
   "execution_count": 87
  },
  {
   "cell_type": "code",
   "metadata": {
    "ExecuteTime": {
     "end_time": "2025-05-06T12:43:49.985022Z",
     "start_time": "2025-05-06T12:43:43.323977Z"
    }
   },
   "source": [
    "# Test\n",
    "input_text = \"今天天气\"\n",
    "print(input_text, end='')\n",
    "for tok_id in generate_topk_uniform(input_text, k=50):\n",
    "    if tok_id not in SPECIAL_TOKEN_IDS:\n",
    "        print(gpt2_tokenizer.convert_ids_to_tokens(tok_id), end='')"
   ],
   "outputs": [
    {
     "name": "stdout",
     "output_type": "stream",
     "text": [
      "今天天气逐路延长缓旱及中晚熟稻上托梯量降的进关进站数减排幅限下次有了大机收和农资、种种行流数和补储棉进仓规度"
     ]
    }
   ],
   "execution_count": 88
  },
  {
   "cell_type": "code",
   "metadata": {
    "ExecuteTime": {
     "end_time": "2025-05-06T12:43:56.910174Z",
     "start_time": "2025-05-06T12:43:50.113538Z"
    }
   },
   "source": [
    "# Test\n",
    "input_text = \"子曰：人\"\n",
    "print(input_text, end='')\n",
    "for tok_id in generate_topk_uniform(input_text, k=50):\n",
    "    if tok_id not in SPECIAL_TOKEN_IDS:\n",
    "        print(gpt2_tokenizer.convert_ids_to_tokens(tok_id), end='')"
   ],
   "outputs": [
    {
     "name": "stdout",
     "output_type": "stream",
     "text": [
      "子曰：人人尽善才道为良民谋出发口；万种物竞其灵之人在与他较乐于此。如无才名却获不少子之道行（亦者更为一步两分"
     ]
    }
   ],
   "execution_count": 89
  },
  {
   "cell_type": "markdown",
   "metadata": {},
   "source": [
    "We can note that although the above uniform top-k sampling solves repetition issue, it will however produce *extremely incoherent* text. We can remedy this by using a proportional sampling instead of uniform sampling.\n",
    "\n",
    "There are plenty of different ways to implement proportionaly sampling. You can either:\n",
    "- Create list of cumulative relative probabilities of the top k tokens. For instance, if the relative probabilities of $k=5$ tokens are $0.1$, $0.2$, $0.5$, $0.1$, and $0.1$, then you cumulative probability list is `cum_prob = [0.1, 0.3, 0.8, 0.9, 1.0]`. \n",
    "- Then you draw a random number $r$ from the unifrom distribution $[0,1]$ by `random.random()`, and you decide which token is sampled by telling which bin of `cum_prob` that $r$ falls into.\n",
    "- Or instead, you use the `torch.multinomial()` function to accomplish similar sampling. *Note* the input weight provided to `torch.multinomial` should be the relative probabilities of the top $k$ tokens, which can be obtained from applying softmax to the logits. "
   ]
  },
  {
   "cell_type": "code",
   "metadata": {
    "ExecuteTime": {
     "end_time": "2025-05-06T12:43:57.037679Z",
     "start_time": "2025-05-06T12:43:57.024713Z"
    }
   },
   "source": [
    "def generate_topk_proportion(input_text, k=50, max_gen_len=50):\n",
    "    '''\n",
    "    Generate tokens from the top-k logits, and yield the sampled token id.\n",
    "    Tokens are sampled proportional to their logits.\n",
    "    '''\n",
    "    input_encoded = gpt2_tokenizer(input_text, return_tensors=\"pt\", add_special_tokens=False)\n",
    "    input_ids = input_encoded.input_ids\n",
    "    attn_mask = input_encoded.attention_mask\n",
    "\n",
    "    count = 0\n",
    "    while count < max_gen_len:\n",
    "        output = gpt2_model(input_ids, attention_mask=attn_mask)\n",
    "        logits = output.logits\n",
    "\n",
    "        ### START YOUR CODE ###\n",
    "        last_token_logits = logits[0, -1, :]\n",
    "        topk_logits, topk_indices = torch.topk(last_token_logits, k=k)\n",
    "\n",
    "        topk_probs = F.softmax(topk_logits, dim=0)  # Hint: Convert topk_logits to probabilities, using `F.softmax()`\n",
    "        # sampled_token_id = F.softmax(topk_logits, dim=0)\n",
    "        # Hint: Sample from topk_probs using `torch.multinomial()` or write your own sampling method, by computing cumulative probabilities\n",
    "        sampled_index = torch.multinomial(topk_probs, num_samples=1)\n",
    "        sampled_token_id = topk_indices[sampled_index].item()\n",
    "\n",
    "        yield sampled_token_id\n",
    "        if sampled_token_id == gpt2_tokenizer.sep_token_id:\n",
    "            break\n",
    "\n",
    "        input_ids = torch.cat([input_ids, torch.tensor([[sampled_token_id]], dtype=input_ids.dtype)], dim=1)\n",
    "        attn_mask = torch.cat([attn_mask, torch.ones((1,1))], dim=1)\n",
    "\n",
    "        ### END YOUR CODE ###\n",
    "\n",
    "        count += 1"
   ],
   "outputs": [],
   "execution_count": 90
  },
  {
   "cell_type": "code",
   "metadata": {
    "ExecuteTime": {
     "end_time": "2025-05-06T12:44:03.796368Z",
     "start_time": "2025-05-06T12:43:57.150273Z"
    }
   },
   "source": [
    "# Test\n",
    "input_text = \"今天天气\"\n",
    "print(input_text, end='')\n",
    "for tok_id in generate_topk_proportion(input_text, k=50):\n",
    "    if tok_id not in SPECIAL_TOKEN_IDS:\n",
    "        print(gpt2_tokenizer.convert_ids_to_tokens(tok_id), end='')"
   ],
   "outputs": [
    {
     "name": "stdout",
     "output_type": "stream",
     "text": [
      "今天天气越来越热，为了感谢你的付出，请选择与我们联系：qq:272##01##96##95##5，如果有用户反馈你们不会联系我们的会感谢"
     ]
    }
   ],
   "execution_count": 91
  },
  {
   "cell_type": "code",
   "metadata": {
    "ExecuteTime": {
     "end_time": "2025-05-06T12:44:10.740542Z",
     "start_time": "2025-05-06T12:44:03.938900Z"
    }
   },
   "source": [
    "# Test\n",
    "input_text = \"子曰：人\"\n",
    "print(input_text, end='')\n",
    "for tok_id in generate_topk_proportion(input_text, k=50):\n",
    "    if tok_id not in SPECIAL_TOKEN_IDS:\n",
    "        print(gpt2_tokenizer.convert_ids_to_tokens(tok_id), end='')"
   ],
   "outputs": [
    {
     "name": "stdout",
     "output_type": "stream",
     "text": [
      "子曰：人有三绝：无色不足，无声不足，无声无气不足，无气不能通而通，无气不能通而通而通而通而通不能顺。《老子"
     ]
    }
   ],
   "execution_count": 92
  },
  {
   "cell_type": "markdown",
   "metadata": {},
   "source": [
    "Do you think the proportional sampling produces better text?\n",
    "\n",
    "Have fun sampling! :)"
   ]
  },
  {
   "cell_type": "markdown",
   "metadata": {},
   "source": [
    "## T3. Implement Top-p Sampling\n",
    "\n",
    "Next, we will implement top-p sampling, which works in parallel to top-k sampling.\n",
    "\n",
    "In `filter_topk_topp()`, we first filter out the logits that are not in the top-k, by setting their logit values to `-float('inf')`. \n",
    "\n",
    "And then filter out the logits whose cumulative probability (as computed from the altered logits from the previous step) is greater than `p`.\n",
    "- You can first call `torch.sort()` to sort the logits in ascending order, and convert them to probabilities by applying `torch.softmax()`.\n",
    "- Then, you can compute the cumulative probabilities by calling `torch.cumsum()`.\n",
    "- Note that it is possible that the first logit alone dominates the distribution, and its cumulative probability is greater than `p`. In this case, we want to keep this logit, and remove all other logits."
   ]
  },
  {
   "cell_type": "code",
   "metadata": {
    "ExecuteTime": {
     "end_time": "2025-05-06T12:44:10.883590Z",
     "start_time": "2025-05-06T12:44:10.871067Z"
    }
   },
   "source": [
    "def filter_topk_topp(logits: torch.Tensor, k=50, p=0.9) -> torch.Tensor:\n",
    "    '''\n",
    "    Filter a distribution of logits using top-k and/or nucleus (top-p) filtering\n",
    "    '''\n",
    "    assert logits.dim() == 1\n",
    "    logits = logits.clone()\n",
    "\n",
    "    if k > 0:\n",
    "        ### START YOUR CODE ###\n",
    "        topk_logits, topk_indices = torch.topk(logits, k=k)\n",
    "        logits_to_remove = ~torch.zeros_like(logits).scatter_(0, topk_indices, 1).bool()\n",
    "        logits[logits_to_remove] = -float('Inf')\n",
    "        ### END YOUR CODE ###\n",
    "\n",
    "    if p > 0.0:\n",
    "        ### START YOUR CODE ###\n",
    "        logits_sorted, indices_sorted = torch.sort(logits,descending=True)\n",
    "        # Hint: Sort logits in ascending order\n",
    "        probs_sorted = F.softmax(logits_sorted, dim=-1)\n",
    "        cum_probs = torch.cumsum(probs_sorted, dim=-1)\n",
    "        # Hint: first convert logits to probabilities, then compute cumulative probabilities\n",
    "        indices_to_remove = cum_probs >p\n",
    "        # It is possible that cum_probs[0] > p, in which case all logits will be removed\n",
    "        # we want to avoid that, so always keep the first logit\n",
    "        # 确保至少保留最后一个token（最大的logit）\n",
    "        indices_to_remove[0] = False\n",
    "\n",
    "        # 将索引映射回原始顺序\n",
    "        indices_to_remove = torch.zeros_like(logits, dtype=torch.bool).scatter_(\n",
    "            0, indices_sorted, indices_to_remove\n",
    "        )\n",
    "        logits[indices_to_remove] = -float('Inf')\n",
    "        ### END YOUR CODE ### \n",
    "\n",
    "    return logits"
   ],
   "outputs": [],
   "execution_count": 93
  },
  {
   "cell_type": "code",
   "metadata": {
    "ExecuteTime": {
     "end_time": "2025-05-06T12:44:11.009860Z",
     "start_time": "2025-05-06T12:44:10.996861Z"
    }
   },
   "source": [
    "# Test filter_topk_topp\n",
    "logits = torch.tensor(list(range(10))).float()\n",
    "print('original logits:', logits)\n",
    "\n",
    "logits2 = filter_topk_topp(logits, k=5, p=0.0)\n",
    "print('\\nk=5, p=0.0:', logits2)\n",
    "\n",
    "logits3 = filter_topk_topp(logits, k=0, p=0.9)\n",
    "print('\\nk=0, p=0.9:', logits3)\n",
    "\n",
    "logits4 = filter_topk_topp(logits, k=0, p=0.9999999)\n",
    "print('\\nk=0, p=0.9999999:', logits4)\n",
    "\n",
    "logits5 = filter_topk_topp(logits, k=5, p=0.9999999)\n",
    "print('\\nk=5, p=0.9999999:', logits5)\n",
    "\n",
    "\n",
    "# You are expected to see the following output:\n",
    "# original logits: tensor([0., 1., 2., 3., 4., 5., 6., 7., 8., 9.])\n",
    "# k=5, p=0.0: tensor([-inf, -inf, -inf, -inf, -inf, 5., 6., 7., 8., 9.])\n",
    "# k=0, p=0.9: tensor([-inf, -inf, -inf, -inf, -inf, -inf, -inf, -inf, 8., 9.])\n",
    "# k=0, p=0.9999999: tensor([-inf, 1., 2., 3., 4., 5., 6., 7., 8., 9.])\n",
    "# k=5, p=0.9999999: tensor([-inf, -inf, -inf, -inf, -inf, 5., 6., 7., 8., 9.])"
   ],
   "outputs": [
    {
     "name": "stdout",
     "output_type": "stream",
     "text": [
      "original logits: tensor([0., 1., 2., 3., 4., 5., 6., 7., 8., 9.])\n",
      "\n",
      "k=5, p=0.0: tensor([-inf, -inf, -inf, -inf, -inf, 5., 6., 7., 8., 9.])\n",
      "\n",
      "k=0, p=0.9: tensor([-inf, -inf, -inf, -inf, -inf, -inf, -inf, -inf, 8., 9.])\n",
      "\n",
      "k=0, p=0.9999999: tensor([-inf, 1., 2., 3., 4., 5., 6., 7., 8., 9.])\n",
      "\n",
      "k=5, p=0.9999999: tensor([-inf, -inf, -inf, -inf, -inf, -inf, 6., 7., 8., 9.])\n"
     ]
    }
   ],
   "execution_count": 94
  },
  {
   "cell_type": "markdown",
   "metadata": {},
   "source": [
    "In the following test, if all logits are `-inf`, then your top-p sampling is not correctly implemented. \n",
    "\n",
    "You wan to keep at least one element in the logits, whose logit value dominates the distribution. "
   ]
  },
  {
   "cell_type": "code",
   "metadata": {
    "ExecuteTime": {
     "end_time": "2025-05-06T12:44:11.165229Z",
     "start_time": "2025-05-06T12:44:11.142942Z"
    }
   },
   "source": [
    "logits_special = torch.tensor(np.arange(10) ** 2).float()\n",
    "print('original logits:', logits_special)\n",
    "\n",
    "logits6 = filter_topk_topp(logits_special, k=0, p=0.9)\n",
    "print('\\nk=0, p=0.9:', logits6)\n",
    "\n",
    "\n",
    "# You are expected to see the following output:\n",
    "# original logits: tensor([ 0.,  1.,  4.,  9., 16., 25., 36., 49., 64., 81.])\n",
    "# k=0, p=0.9: tensor([-inf, -inf, -inf, -inf, -inf, -inf, -inf, -inf, -inf, 81.])"
   ],
   "outputs": [
    {
     "name": "stdout",
     "output_type": "stream",
     "text": [
      "original logits: tensor([ 0.,  1.,  4.,  9., 16., 25., 36., 49., 64., 81.])\n",
      "\n",
      "k=0, p=0.9: tensor([-inf, -inf, -inf, -inf, -inf, -inf, -inf, -inf, -inf, 81.])\n"
     ]
    }
   ],
   "execution_count": 95
  },
  {
   "cell_type": "markdown",
   "metadata": {},
   "source": [
    "Finally, we integrate the filtering to the generation process.\n",
    "\n",
    "Given the output of `filter_topk_topp()`, you need to use the same sampling algorithm as implemented in `generate_topk_proportion()`."
   ]
  },
  {
   "cell_type": "code",
   "metadata": {
    "ExecuteTime": {
     "end_time": "2025-05-06T12:44:11.288512Z",
     "start_time": "2025-05-06T12:44:11.277113Z"
    }
   },
   "source": [
    "def generate_topk_topp(input_text, k=50, p=0.9, max_gen_len=20):\n",
    "    '''\n",
    "    Generate tokens from the top-k and top-p filtered logits, and yield the sampled token id.\n",
    "    '''\n",
    "    input_encoded = gpt2_tokenizer(input_text, return_tensors=\"pt\", add_special_tokens=False)\n",
    "    input_ids = input_encoded.input_ids\n",
    "    attn_mask = input_encoded.attention_mask\n",
    "\n",
    "    count = 0\n",
    "    while count < max_gen_len:\n",
    "        output = gpt2_model(input_ids, attention_mask=attn_mask)\n",
    "        logits = output.logits\n",
    "\n",
    "        # Get last token logits\n",
    "        ### START YOUR CODE ###\n",
    "        last_token_logits = logits[0, -1, :]\n",
    "        ### END YOUR CODE ###\n",
    "\n",
    "        # Get the filtered logits by calling filter_topk_topp \n",
    "        ### START YOUR CODE ###\n",
    "        filtered_logits = filter_topk_topp(last_token_logits, k=k, p=p)\n",
    "        ### END YOUR CODE ###\n",
    "\n",
    "        # Sample from the remaining tokens in sorted_logits\n",
    "        ### START YOUR CODE ###\n",
    "        filtered_probs = F.softmax(filtered_logits, dim=-1)  # 将 logits 转换为概率\n",
    "        try:\n",
    "            sampled_index = torch.multinomial(filtered_probs, num_samples=1).item()  # 按概率采样\n",
    "          # Hint: Sample proportionally from the filtered_probs, similar to what's done in generate_topk_proportion()\n",
    "        except RuntimeError:\n",
    "            raise\n",
    "\n",
    "        # Yield the sampled token id\n",
    "        yield sampled_index\n",
    "        if sampled_index == gpt2_tokenizer.sep_token_id:\n",
    "            break\n",
    "\n",
    "        # Append the sampled token id to the input_ids, and extend the attention mask\n",
    "        input_ids = torch.cat([input_ids, torch.tensor([[sampled_index]], dtype=input_ids.dtype)], dim=1)\n",
    "        attn_mask = torch.cat([attn_mask, torch.ones((1, 1))], dim=1)\n",
    "        ### END YOUR CODE ###\n",
    "\n",
    "        count += 1"
   ],
   "outputs": [],
   "execution_count": 96
  },
  {
   "cell_type": "code",
   "metadata": {
    "ExecuteTime": {
     "end_time": "2025-05-06T12:44:13.443144Z",
     "start_time": "2025-05-06T12:44:11.416019Z"
    }
   },
   "source": [
    "# Test\n",
    "input_text = \"今天天气\"\n",
    "print(input_text, end='')\n",
    "for tok_id in generate_topk_topp(input_text, k=50, p=0.95):\n",
    "    print(gpt2_tokenizer.convert_ids_to_tokens(tok_id), end='')"
   ],
   "outputs": [
    {
     "name": "stdout",
     "output_type": "stream",
     "text": [
      "今天天气好了，你还能够在微博和豆瓣看到一些关于星"
     ]
    }
   ],
   "execution_count": 97
  },
  {
   "cell_type": "code",
   "metadata": {
    "ExecuteTime": {
     "end_time": "2025-05-06T12:44:15.564554Z",
     "start_time": "2025-05-06T12:44:13.569588Z"
    }
   },
   "source": [
    "# Test\n",
    "input_text = \"子曰：人\"\n",
    "print(input_text, end='')\n",
    "for tok_id in generate_topk_topp(input_text, k=50, p=0.95):\n",
    "    print(gpt2_tokenizer.convert_ids_to_tokens(tok_id), end='')"
   ],
   "outputs": [
    {
     "name": "stdout",
     "output_type": "stream",
     "text": [
      "子曰：人的一生，也就是八九十年，不过是时间的逝去"
     ]
    }
   ],
   "execution_count": 98
  },
  {
   "cell_type": "markdown",
   "metadata": {},
   "source": [
    "Congratulations! You have completed the lab for top-k and top-p sampling."
   ]
  }
 ],
 "metadata": {
  "kernelspec": {
   "display_name": "base",
   "language": "python",
   "name": "python3"
  },
  "language_info": {
   "codemirror_mode": {
    "name": "ipython",
    "version": 3
   },
   "file_extension": ".py",
   "mimetype": "text/x-python",
   "name": "python",
   "nbconvert_exporter": "python",
   "pygments_lexer": "ipython3",
   "version": "3.11.5"
  }
 },
 "nbformat": 4,
 "nbformat_minor": 2
}
