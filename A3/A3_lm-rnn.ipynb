{
 "cells": [
  {
   "metadata": {},
   "cell_type": "markdown",
   "source": [
    "## CS310 Natural Language Processing\n",
    "## Assignment 3. Recurrent Neural Networks for Language Modeling \n",
    "\n",
    "**Total points**: \n",
    "\n",
    "In this assignment, you will train a vanilla RNN-based language model on the Harry Potter text data. "
   ]
  },
  {
   "cell_type": "markdown",
   "metadata": {},
   "source": "### 0. Import Necessary Libraries"
  },
  {
   "metadata": {
    "ExecuteTime": {
     "end_time": "2025-04-01T12:51:14.345403Z",
     "start_time": "2025-04-01T12:51:14.335518Z"
    }
   },
   "cell_type": "code",
   "source": [
    "import sys\n",
    "\n",
    "print(sys.executable)  # 输出当前内核的 Python 解释器路径"
   ],
   "outputs": [
    {
     "name": "stdout",
     "output_type": "stream",
     "text": [
      "/mnt/lijl/anaconda3/envs/nnUnet/bin/python\n"
     ]
    }
   ],
   "execution_count": 3
  },
  {
   "metadata": {
    "ExecuteTime": {
     "end_time": "2025-04-01T12:51:16.526398Z",
     "start_time": "2025-04-01T12:51:14.452654Z"
    }
   },
   "cell_type": "code",
   "source": [
    "import nltk\n",
    "from nltk.tokenize import word_tokenize, sent_tokenize\n",
    "# nltk.download('punkt_tab')  # 只需运行一次\n",
    "from collections import Counter\n",
    "import torch\n",
    "from torch.utils.data import TensorDataset, DataLoader\n",
    "from torch.nn.utils.rnn import pad_sequence, pack_padded_sequence\n",
    "from torch.utils.data import random_split\n",
    "import torch.nn as nn\n",
    "import torch.optim as optim\n",
    "import math\n",
    "from tqdm import tqdm\n",
    "import matplotlib.pyplot as plt"
   ],
   "outputs": [],
   "execution_count": 4
  },
  {
   "cell_type": "code",
   "metadata": {
    "ExecuteTime": {
     "end_time": "2025-04-01T12:51:16.550613Z",
     "start_time": "2025-04-01T12:51:16.528849Z"
    }
   },
   "source": [
    "# load in TXT\n",
    "HarryPotterURL = 'Harry_Potter_all_books_preprocessed.txt'\n",
    "with open(HarryPotterURL, 'r', encoding='utf-8') as file:\n",
    "    text = file.read()\n",
    "print(text[:500])"
   ],
   "outputs": [
    {
     "name": "stdout",
     "output_type": "stream",
     "text": [
      "THE BOY WHO LIVED Mr and Mrs Dursley of number four Privet Drive were proud to say that they were perfectly normal thank you very much .They were the last people youd expect to be involved in anything strange or mysterious because they just didnt hold with such nonsense .Mr Dursley was the director of a firm called Grunnings which made drills .He was a big beefy man with hardly any neck although he did have a very large mustache .Mrs Dursley was thin and blonde and had nearly twice the usual amo\n"
     ]
    }
   ],
   "execution_count": 5
  },
  {
   "metadata": {
    "ExecuteTime": {
     "end_time": "2025-04-01T12:51:20.349055Z",
     "start_time": "2025-04-01T12:51:16.551887Z"
    }
   },
   "cell_type": "code",
   "source": [
    "## 分词\n",
    "tokens = word_tokenize(text)\n",
    "print(len(tokens))\n",
    "# 词频\n",
    "counter = Counter(tokens)\n",
    "# 构建 word2id 词表，并加入特殊 token\n",
    "word2id = {'<pad>': 0, '<unk>': 1}\n",
    "for i, word in enumerate(counter.keys(), start=2):\n",
    "    word2id[word] = i\n",
    "# 构建 id2word 词表\n",
    "id2word = {idx: word for word, idx in word2id.items()}\n",
    "# 转换为 ID 序列\n",
    "token_ids = [word2id.get(word, word2id['<unk>']) for word in tokens]\n",
    "# 测试输出\n",
    "print(\"Word2id: Total vocabulary = \" + str(len(word2id)))\n",
    "print(word2id[\"THE\"], word2id[\"Harry\"])\n",
    "print(id2word[0], id2word[1], id2word[2])"
   ],
   "outputs": [
    {
     "name": "stdout",
     "output_type": "stream",
     "text": [
      "1105952\n",
      "Word2id: Total vocabulary = 30248\n",
      "2 429\n",
      "<pad> <unk> THE\n"
     ]
    }
   ],
   "execution_count": 6
  },
  {
   "metadata": {
    "ExecuteTime": {
     "end_time": "2025-04-01T12:51:20.385904Z",
     "start_time": "2025-04-01T12:51:20.352045Z"
    }
   },
   "cell_type": "code",
   "source": [
    "class LanguageModelingDataset(torch.utils.data.Dataset):\n",
    "    def __init__(self, data, block_size):\n",
    "        self.data = data\n",
    "        self.block_size = block_size\n",
    "\n",
    "    def __len__(self):\n",
    "        return len(self.data) - self.block_size\n",
    "\n",
    "    def __getitem__(self, idx):\n",
    "        x = self.data[idx: idx + self.block_size]\n",
    "        y = self.data[idx + 1: idx + self.block_size + 1]\n",
    "        return x, y\n",
    "\n",
    "\n",
    "# 转换成 LongTensor\n",
    "data_tensor = torch.tensor(token_ids, dtype=torch.long)\n",
    "\n",
    "# 划分 train set和 test set\n",
    "train_ratio = 0.9\n",
    "train_len = int(train_ratio * len(data_tensor))\n",
    "train_data = data_tensor[:train_len]\n",
    "test_data = data_tensor[train_len:]\n",
    "print(train_data.shape)\n",
    "print(test_data.shape)\n",
    "\n",
    "# 构建tensor\n",
    "block_size = 32\n",
    "batch_size = 32\n",
    "train_dataset = LanguageModelingDataset(train_data, block_size)\n",
    "test_dataset = LanguageModelingDataset(test_data, block_size)\n",
    "train_loader = torch.utils.data.DataLoader(train_dataset, batch_size=batch_size, shuffle=True)\n",
    "test_loader = torch.utils.data.DataLoader(test_dataset, batch_size=batch_size)"
   ],
   "outputs": [
    {
     "name": "stdout",
     "output_type": "stream",
     "text": [
      "torch.Size([995356])\n",
      "torch.Size([110596])\n"
     ]
    }
   ],
   "execution_count": 7
  },
  {
   "cell_type": "markdown",
   "metadata": {},
   "source": [
    "### 1. Build the Model"
   ]
  },
  {
   "cell_type": "code",
   "metadata": {
    "ExecuteTime": {
     "end_time": "2025-04-01T12:51:20.477295Z",
     "start_time": "2025-04-01T12:51:20.387230Z"
    }
   },
   "source": [
    "class RNNLanguageModel(nn.Module):\n",
    "    def __init__(self, vocab_size, embed_dim=50, hidden_dim=100, num_layers=1, bidirectional=False):\n",
    "        super().__init__()\n",
    "        self.embedding = nn.Embedding(vocab_size, embed_dim)\n",
    "        self.rnn = nn.RNN(embed_dim, hidden_dim, num_layers=num_layers, batch_first=True, bidirectional=bidirectional)\n",
    "\n",
    "        output_dim = hidden_dim * (2 if bidirectional else 1)\n",
    "        self.fc = nn.Linear(output_dim, vocab_size)\n",
    "\n",
    "    def forward(self, x, hidden=None):\n",
    "        x = self.embedding(x)\n",
    "        out, hidden = self.rnn(x, hidden)\n",
    "        logits = self.fc(out)\n",
    "        log_probs = torch.log_softmax(logits, dim=-1)\n",
    "        return log_probs, hidden\n"
   ],
   "outputs": [],
   "execution_count": 8
  },
  {
   "cell_type": "markdown",
   "metadata": {},
   "source": [
    "### 2. Train and Evaluate"
   ]
  },
  {
   "metadata": {
    "ExecuteTime": {
     "end_time": "2025-04-01T12:51:20.552482Z",
     "start_time": "2025-04-01T12:51:20.479448Z"
    }
   },
   "cell_type": "code",
   "source": [
    "def train_model(model, dataloader, optimizer, criterion, scheduler=None, epochs=5, device=\"cpu\"):\n",
    "    model.train()\n",
    "    loss_history = []\n",
    "    for epoch in range(epochs):\n",
    "        total_loss = 0\n",
    "        for X, Y in tqdm(dataloader):\n",
    "            # print(X.shape, Y.shape)\n",
    "            X, Y = X.to(device), Y.to(device)\n",
    "            optimizer.zero_grad()\n",
    "            outputs, _ = model(X)\n",
    "            loss = criterion(outputs.view(-1, outputs.size(-1)), Y.view(-1))\n",
    "            loss.backward()\n",
    "            optimizer.step()\n",
    "            total_loss += loss.item()\n",
    "        avg_loss = total_loss / len(dataloader)\n",
    "        loss_history.append(avg_loss)\n",
    "        if scheduler:\n",
    "            scheduler.step()\n",
    "        print(f\"Epoch {epoch + 1} | Avg Loss: {avg_loss:.4f}\", end=\"\")\n",
    "        if scheduler:\n",
    "            print(f\" | LR: {scheduler.get_last_lr()[0]:.6f}\")\n",
    "        else:\n",
    "            print()\n",
    "    return loss_history"
   ],
   "outputs": [],
   "execution_count": 9
  },
  {
   "metadata": {
    "ExecuteTime": {
     "end_time": "2025-04-01T12:51:20.598948Z",
     "start_time": "2025-04-01T12:51:20.555252Z"
    }
   },
   "cell_type": "code",
   "source": [
    "def evaluate_model(model, dataloader, criterion, device=\"cpu\"):\n",
    "    model.eval()\n",
    "    total_loss = 0\n",
    "    with torch.no_grad():\n",
    "        for X, Y in dataloader:\n",
    "            X, Y = X.to(device), Y.to(device)\n",
    "            outputs, _ = model(X)\n",
    "            loss = criterion(outputs.view(-1, outputs.size(-1)), Y.view(-1))\n",
    "            total_loss += loss.item()\n",
    "    ppl = math.exp(total_loss / len(dataloader))\n",
    "    print(f\"Perplexity: {ppl:.2f}\")\n",
    "    return ppl\n"
   ],
   "outputs": [],
   "execution_count": 10
  },
  {
   "metadata": {
    "ExecuteTime": {
     "end_time": "2025-04-01T13:50:41.642907Z",
     "start_time": "2025-04-01T13:50:41.625161Z"
    }
   },
   "cell_type": "code",
   "source": [
    "def clean_prefix(prefix, word2id):\n",
    "    # 清理 prefix 中的 <unk> 标签，直接删除它们\n",
    "    tokens = prefix.lower().split()\n",
    "    cleaned_tokens = [token for token in tokens if word2id.get(token) is not None]  # 仅保留词汇表中存在的单词\n",
    "    return ' '.join(cleaned_tokens)\n",
    "\n",
    "def generate_greedy(model, word2id, id2word, prefix, max_len=20, device=\"cpu\"):\n",
    "    model.eval()\n",
    "\n",
    "    # 清理 prefix，去除 <unk> 标签\n",
    "    cleaned_prefix = clean_prefix(prefix, word2id)\n",
    "    tokens = cleaned_prefix.lower().split()\n",
    "    \n",
    "    # 生成 initial input_ids (确保每个词都在词汇表中)\n",
    "    input_ids = [word2id.get(w, word2id[\"<unk>\"]) for w in tokens]\n",
    "    input_tensor = torch.tensor([input_ids], dtype=torch.long).to(device)\n",
    "\n",
    "    hidden = None\n",
    "    generated_tokens = []  # 用于保存生成的 tokens（不重复）\n",
    "\n",
    "    with torch.no_grad():\n",
    "        for _ in range(max_len):\n",
    "            # 当前生成的 token 是基于 input_tensor 的最新内容进行生成的\n",
    "            output, hidden = model(input_tensor, hidden)\n",
    "            last_token_logits = output[:, -1, :]  # 取最后一个位置的输出\n",
    "            next_token = torch.argmax(last_token_logits, dim=-1).item()\n",
    "\n",
    "            # 将新生成的 token 加入 generated_tokens\n",
    "            generated_tokens.append(next_token)\n",
    "            \n",
    "            # 将新生成的 token 拼接到 input_tensor 中用于下一步生成\n",
    "            input_tensor = torch.cat([input_tensor, torch.tensor([[next_token]], device=device)], dim=1)\n",
    "\n",
    "    # 拼接生成的结果并返回\n",
    "    result = ' '.join([id2word.get(idx, \"<unk>\") for idx in generated_tokens])\n",
    "    return result\n"
   ],
   "outputs": [],
   "execution_count": 16
  },
  {
   "metadata": {
    "ExecuteTime": {
     "end_time": "2025-04-01T13:35:39.942049Z",
     "start_time": "2025-04-01T12:51:20.663777Z"
    }
   },
   "cell_type": "code",
   "source": [
    "# 初始化模型\n",
    "vocab_size = len(word2id)\n",
    "rnn_model = RNNLanguageModel(vocab_size=vocab_size, embed_dim=50, hidden_dim=100, num_layers=1, bidirectional=False)\n",
    "\n",
    "# 准备训练工具\n",
    "device = torch.device(\"cuda\" if torch.cuda.is_available() else \"cpu\")\n",
    "rnn_model = rnn_model.to(device)\n",
    "\n",
    "criterion = nn.CrossEntropyLoss()\n",
    "optimizer = torch.optim.Adam(rnn_model.parameters(), lr=0.003)\n",
    "scheduler = torch.optim.lr_scheduler.StepLR(optimizer, step_size=3, gamma=0.1)\n",
    "\n",
    "# 启动训练\n",
    "print(\"Training Vanilla RNN...\")\n",
    "rnn_loss_history = train_model(rnn_model, train_loader, optimizer, criterion, scheduler=scheduler, epochs=10,\n",
    "                               device=device)\n",
    "\n",
    "# 评估模型（Perplexity）\n",
    "print(\"Evaluating RNN...\")\n",
    "rnn_ppl = evaluate_model(rnn_model, test_loader, criterion, device=device)\n"
   ],
   "outputs": [
    {
     "name": "stdout",
     "output_type": "stream",
     "text": [
      "Training Vanilla RNN...\n"
     ]
    },
    {
     "name": "stderr",
     "output_type": "stream",
     "text": [
      "100%|██████████| 31104/31104 [04:25<00:00, 117.20it/s]\n"
     ]
    },
    {
     "name": "stdout",
     "output_type": "stream",
     "text": [
      "Epoch 1 | Avg Loss: 4.4778 | LR: 0.003000\n"
     ]
    },
    {
     "name": "stderr",
     "output_type": "stream",
     "text": [
      "100%|██████████| 31104/31104 [04:25<00:00, 116.96it/s]\n"
     ]
    },
    {
     "name": "stdout",
     "output_type": "stream",
     "text": [
      "Epoch 2 | Avg Loss: 3.9924 | LR: 0.003000\n"
     ]
    },
    {
     "name": "stderr",
     "output_type": "stream",
     "text": [
      "100%|██████████| 31104/31104 [04:23<00:00, 117.87it/s]\n"
     ]
    },
    {
     "name": "stdout",
     "output_type": "stream",
     "text": [
      "Epoch 3 | Avg Loss: 3.9085 | LR: 0.000300\n"
     ]
    },
    {
     "name": "stderr",
     "output_type": "stream",
     "text": [
      "100%|██████████| 31104/31104 [04:24<00:00, 117.79it/s]\n"
     ]
    },
    {
     "name": "stdout",
     "output_type": "stream",
     "text": [
      "Epoch 4 | Avg Loss: 3.6620 | LR: 0.000300\n"
     ]
    },
    {
     "name": "stderr",
     "output_type": "stream",
     "text": [
      "100%|██████████| 31104/31104 [04:24<00:00, 117.74it/s]\n"
     ]
    },
    {
     "name": "stdout",
     "output_type": "stream",
     "text": [
      "Epoch 5 | Avg Loss: 3.6215 | LR: 0.000300\n"
     ]
    },
    {
     "name": "stderr",
     "output_type": "stream",
     "text": [
      "100%|██████████| 31104/31104 [04:25<00:00, 117.30it/s]\n"
     ]
    },
    {
     "name": "stdout",
     "output_type": "stream",
     "text": [
      "Epoch 6 | Avg Loss: 3.6070 | LR: 0.000030\n"
     ]
    },
    {
     "name": "stderr",
     "output_type": "stream",
     "text": [
      "100%|██████████| 31104/31104 [04:23<00:00, 118.17it/s]\n"
     ]
    },
    {
     "name": "stdout",
     "output_type": "stream",
     "text": [
      "Epoch 7 | Avg Loss: 3.5803 | LR: 0.000030\n"
     ]
    },
    {
     "name": "stderr",
     "output_type": "stream",
     "text": [
      "100%|██████████| 31104/31104 [04:24<00:00, 117.44it/s]\n"
     ]
    },
    {
     "name": "stdout",
     "output_type": "stream",
     "text": [
      "Epoch 8 | Avg Loss: 3.5760 | LR: 0.000030\n"
     ]
    },
    {
     "name": "stderr",
     "output_type": "stream",
     "text": [
      "100%|██████████| 31104/31104 [04:22<00:00, 118.31it/s]\n"
     ]
    },
    {
     "name": "stdout",
     "output_type": "stream",
     "text": [
      "Epoch 9 | Avg Loss: 3.5742 | LR: 0.000003\n"
     ]
    },
    {
     "name": "stderr",
     "output_type": "stream",
     "text": [
      "100%|██████████| 31104/31104 [04:24<00:00, 117.53it/s]\n"
     ]
    },
    {
     "name": "stdout",
     "output_type": "stream",
     "text": [
      "Epoch 10 | Avg Loss: 3.5707 | LR: 0.000003\n",
      "Evaluating RNN...\n",
      "Perplexity: 1514.52\n"
     ]
    }
   ],
   "execution_count": 12
  },
  {
   "metadata": {
    "ExecuteTime": {
     "end_time": "2025-04-01T13:35:40.146808Z",
     "start_time": "2025-04-01T13:35:39.945797Z"
    }
   },
   "cell_type": "code",
   "source": [
    "plt.figure(figsize=(8, 5))\n",
    "plt.plot(rnn_loss_history, label=\"Vanilla RNN\")\n",
    "plt.title(\"Training Loss Curves\")\n",
    "plt.xlabel(\"Epoch\")\n",
    "plt.ylabel(\"Loss\")\n",
    "plt.xticks(range(len(rnn_loss_history)))\n",
    "\n",
    "plt.legend()\n",
    "plt.grid(True)\n",
    "plt.show()\n"
   ],
   "outputs": [
    {
     "data": {
      "text/plain": [
       "<Figure size 800x500 with 1 Axes>"
      ],
      "image/png": "[encoded data removed]"
     },
     "metadata": {},
     "output_type": "display_data"
    }
   ],
   "execution_count": 13
  },
  {
   "metadata": {
    "ExecuteTime": {
     "end_time": "2025-04-01T13:35:40.189003Z",
     "start_time": "2025-04-01T13:35:40.148307Z"
    }
   },
   "cell_type": "code",
   "source": [
    "prefix = \"Harry looked at\"\n",
    "print(f\"\\nGenerated sentences from prefix: '{prefix}'\\n\")\n",
    "\n",
    "for i in range(5):\n",
    "    rnn_output = generate_greedy(rnn_model, word2id, id2word, prefix, max_len=20, device=device)\n",
    "\n",
    "    print(f\"Pair {i + 1}:\")\n",
    "    print(\"  RNN : \", rnn_output)"
   ],
   "outputs": [
    {
     "name": "stdout",
     "output_type": "stream",
     "text": [
      "\n",
      "Generated sentences from prefix: 'Harry looked at'\n",
      "\n",
      "Pair 1:\n",
      "  RNN :  <unk> looked at each other and the Sorting Hat was streaking up the pitch hovering in the lefthand corner of the drive toward\n",
      "Pair 2:\n",
      "  RNN :  <unk> looked at each other and the Sorting Hat was streaking up the pitch hovering in the lefthand corner of the drive toward\n",
      "Pair 3:\n",
      "  RNN :  <unk> looked at each other and the Sorting Hat was streaking up the pitch hovering in the lefthand corner of the drive toward\n",
      "Pair 4:\n",
      "  RNN :  <unk> looked at each other and the Sorting Hat was streaking up the pitch hovering in the lefthand corner of the drive toward\n",
      "Pair 5:\n",
      "  RNN :  <unk> looked at each other and the Sorting Hat was streaking up the pitch hovering in the lefthand corner of the drive toward\n"
     ]
    }
   ],
   "execution_count": 14
  },
  {
   "metadata": {
    "ExecuteTime": {
     "end_time": "2025-04-01T14:44:20.661856Z",
     "start_time": "2025-04-01T14:44:19.671983Z"
    }
   },
   "cell_type": "code",
   "source": [
    "prefixes = [\n",
    "    \"Harry looked at\",\n",
    "    \"Harry looked over\",\n",
    "    \"Hermione said that\",\n",
    "    \"Ron said\",\n",
    "    \"The wand flied\",\n",
    "    \"Dumbledore rushed out the room angrily\"\n",
    "]\n",
    "\n",
    "for prefix in prefixes:\n",
    "    print(f\"{prefix} {generate_greedy(rnn_model, word2id, id2word, prefix, max_len=50, device=device)}\")"
   ],
   "outputs": [
    {
     "name": "stdout",
     "output_type": "stream",
     "text": [
      "Harry looked at him and departed to the ground and throwing the cloak over his head and his eyes were growing boring tie to his feet and turned to the jeans door and a palomino body for the first time he had been in the castle to be educated .she said Harry and\n",
      "Harry looked over the tip of his wand .Instantly Harry pelting his wand at the Inferius that had been a small vacant hole and headed off to the castle to the Department of Mysteries and the Ministry is currently publishing guides to elementary home for a few days of the same time in\n",
      "Hermione said that he was not going to be able to get out of the castle ? said Harry angrily .I dont know what youre doing ? Harry asked Hermione .I mean I was going to be able to see Gringotts of the Order of the Phoenix ? said Harry angrily .I dont\n",
      "Ron said Harry .Instantly Harry had not been in the wrong place at the end of the lesson .Overhead and his eyes were fixed upon the ground and the golden thread connecting the floor and threw it open and pulled out his wand and handed him to the door and bolted the\n",
      "The wand flied tip of them and started to wend their way out of the room with the brass knocker shaped like a griffin .Though he had been in the wrong direction between them until lunchtime and queued up the gap between the garage and fence warming his throat and looked as though\n",
      "Dumbledore rushed out the room angrily into the panicking office and the moment he had been in the room to the Ministry of Magic and Headmistress and High Inquisitor of the throng Yet how to get rid of the Bandon Banshee by the stew in the air and floated up into the castle and the darkness\n"
     ]
    }
   ],
   "execution_count": 18
  }
 ],
 "metadata": {
  "language_info": {
   "name": "python"
  },
  "kernelspec": {
   "name": "nnunet",
   "language": "python",
   "display_name": "ZS-nnU"
  }
 },
 "nbformat": 4,
 "nbformat_minor": 2
}
