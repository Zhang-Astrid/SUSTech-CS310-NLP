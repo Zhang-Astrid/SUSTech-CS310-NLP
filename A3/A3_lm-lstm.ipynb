{
 "cells": [
  {
   "cell_type": "markdown",
   "metadata": {},
   "source": [
    "## CS310 Natural Language Processing\n",
    "## Assignment 3. Recurrent Neural Networks for Language Modeling \n",
    "\n",
    "**Total points**: \n",
    "\n",
    "In this assignment, you will train a LSTM-based language model on the Harry Potter text data. "
   ]
  },
  {
   "metadata": {},
   "cell_type": "markdown",
   "source": "### 0. Import Necessary Libraries"
  },
  {
   "metadata": {
    "ExecuteTime": {
     "end_time": "2025-04-01T09:08:45.201816Z",
     "start_time": "2025-04-01T09:08:45.194059Z"
    }
   },
   "cell_type": "code",
   "source": [
    "import sys\n",
    "\n",
    "print(sys.executable)  # 输出当前内核的 Python 解释器路径"
   ],
   "outputs": [
    {
     "name": "stdout",
     "output_type": "stream",
     "text": [
      "/mnt/lijl/anaconda3/envs/nnUnet/bin/python\n"
     ]
    }
   ],
   "execution_count": 22
  },
  {
   "metadata": {
    "ExecuteTime": {
     "end_time": "2025-04-01T09:08:45.255105Z",
     "start_time": "2025-04-01T09:08:45.245665Z"
    }
   },
   "cell_type": "code",
   "source": [
    "import nltk\n",
    "from nltk.tokenize import word_tokenize, sent_tokenize\n",
    "# nltk.download('punkt_tab')  # 只需运行一次\n",
    "from collections import Counter\n",
    "import torch\n",
    "from torch.utils.data import TensorDataset, DataLoader\n",
    "from torch.nn.utils.rnn import pad_sequence, pack_padded_sequence\n",
    "from torch.utils.data import random_split\n",
    "import torch.nn as nn\n",
    "import torch.optim as optim\n",
    "from tqdm import tqdm\n",
    "import math\n",
    "import matplotlib.pyplot as plt\n",
    "import numpy as np"
   ],
   "outputs": [],
   "execution_count": 23
  },
  {
   "metadata": {
    "ExecuteTime": {
     "end_time": "2025-04-01T09:08:45.304796Z",
     "start_time": "2025-04-01T09:08:45.257809Z"
    }
   },
   "cell_type": "code",
   "source": [
    "# load in TXT\n",
    "HarryPotterURL = 'Harry_Potter_all_books_preprocessed.txt'\n",
    "with open(HarryPotterURL, 'r', encoding='utf-8') as file:\n",
    "    text = file.read()\n",
    "print(text[:500])"
   ],
   "outputs": [
    {
     "name": "stdout",
     "output_type": "stream",
     "text": [
      "THE BOY WHO LIVED Mr and Mrs Dursley of number four Privet Drive were proud to say that they were perfectly normal thank you very much .They were the last people youd expect to be involved in anything strange or mysterious because they just didnt hold with such nonsense .Mr Dursley was the director of a firm called Grunnings which made drills .He was a big beefy man with hardly any neck although he did have a very large mustache .Mrs Dursley was thin and blonde and had nearly twice the usual amo\n"
     ]
    }
   ],
   "execution_count": 24
  },
  {
   "metadata": {
    "ExecuteTime": {
     "end_time": "2025-04-01T09:08:49.648440Z",
     "start_time": "2025-04-01T09:08:45.306822Z"
    }
   },
   "cell_type": "code",
   "source": [
    "## 分词\n",
    "tokens = word_tokenize(text)\n",
    "# 词频\n",
    "counter = Counter(tokens)\n",
    "# 构建 word2id 词表，并加入特殊 token\n",
    "word2id = {'<pad>': 0, '<unk>': 1}\n",
    "for i, word in enumerate(counter.keys(), start=2):\n",
    "    word2id[word] = i\n",
    "# 构建 id2word 词表\n",
    "id2word = {idx: word for word, idx in word2id.items()}\n",
    "# 转换为 ID 序列\n",
    "token_ids = [word2id.get(word, word2id['<unk>']) for word in tokens]\n",
    "# 测试输出\n",
    "print(\"Word2id: Total vocabulary = \" + str(len(word2id)))\n",
    "print(word2id[\"THE\"], word2id[\"Harry\"])\n",
    "print(id2word[0], id2word[1], id2word[2])"
   ],
   "outputs": [
    {
     "name": "stdout",
     "output_type": "stream",
     "text": [
      "Word2id: Total vocabulary = 30248\n",
      "2 429\n",
      "<pad> <unk> THE\n"
     ]
    }
   ],
   "execution_count": 25
  },
  {
   "metadata": {
    "ExecuteTime": {
     "end_time": "2025-04-01T09:08:49.678817Z",
     "start_time": "2025-04-01T09:08:49.649886Z"
    }
   },
   "cell_type": "code",
   "source": [
    "class LanguageModelingDataset(torch.utils.data.Dataset):\n",
    "    def __init__(self, data, block_size):\n",
    "        self.data = data\n",
    "        self.block_size = block_size\n",
    "\n",
    "    def __len__(self):\n",
    "        return len(self.data) - self.block_size\n",
    "\n",
    "    def __getitem__(self, idx):\n",
    "        x = self.data[idx: idx + self.block_size]\n",
    "        y = self.data[idx + 1: idx + self.block_size + 1]\n",
    "        return x, y\n",
    "\n",
    "\n",
    "# 转换成 LongTensor\n",
    "data_tensor = torch.tensor(token_ids, dtype=torch.long)\n",
    "\n",
    "# 划分 train set和 test set\n",
    "train_ratio = 0.9\n",
    "train_len = int(train_ratio * len(data_tensor))\n",
    "train_data = data_tensor[:train_len]\n",
    "test_data = data_tensor[train_len:]\n",
    "\n",
    "# 构建tensor\n",
    "block_size = 64\n",
    "batch_size = 32\n",
    "train_dataset = LanguageModelingDataset(train_data, block_size)\n",
    "test_dataset = LanguageModelingDataset(test_data, block_size)\n",
    "train_loader = torch.utils.data.DataLoader(train_dataset, batch_size=batch_size, shuffle=True)\n",
    "test_loader = torch.utils.data.DataLoader(test_dataset, batch_size=batch_size)"
   ],
   "outputs": [],
   "execution_count": 26
  },
  {
   "metadata": {},
   "cell_type": "markdown",
   "source": "### 1. Build the Model"
  },
  {
   "metadata": {
    "ExecuteTime": {
     "end_time": "2025-04-01T09:08:49.706154Z",
     "start_time": "2025-04-01T09:08:49.680964Z"
    }
   },
   "cell_type": "code",
   "source": [
    "class LSTMLanguageModel(nn.Module):\n",
    "    def __init__(self, vocab_size, embed_dim=50, hidden_dim=100, num_layers=1, bidirectional=False):\n",
    "        super().__init__()\n",
    "        self.embedding = nn.Embedding(vocab_size, embed_dim)\n",
    "        self.lstm = nn.LSTM(embed_dim, hidden_dim, num_layers=num_layers, batch_first=True, bidirectional=bidirectional)\n",
    "\n",
    "        output_dim = hidden_dim * (2 if bidirectional else 1)\n",
    "        self.fc = nn.Linear(output_dim, vocab_size)\n",
    "\n",
    "    def forward(self, x, hidden=None):\n",
    "        x = self.embedding(x)\n",
    "        out, hidden = self.lstm(x, hidden)\n",
    "        logits = self.fc(out)\n",
    "        log_probs = torch.log_softmax(logits, dim=-1)\n",
    "        return log_probs, hidden\n"
   ],
   "outputs": [],
   "execution_count": 27
  },
  {
   "metadata": {},
   "cell_type": "markdown",
   "source": "### 2. Train and Evaluate"
  },
  {
   "metadata": {
    "ExecuteTime": {
     "end_time": "2025-04-01T09:08:49.735422Z",
     "start_time": "2025-04-01T09:08:49.707495Z"
    }
   },
   "cell_type": "code",
   "source": [
    "def train_model(model, dataloader, optimizer, criterion, epochs, device):\n",
    "    model.train()\n",
    "    loss_history = []\n",
    "    for epoch in range(epochs):\n",
    "        total_loss = 0\n",
    "        for X, Y in tqdm(dataloader):\n",
    "            X, Y = X.to(device), Y.to(device)\n",
    "            optimizer.zero_grad()\n",
    "            outputs, _ = model(X)\n",
    "            loss = criterion(outputs.view(-1, outputs.size(-1)), Y.view(-1))\n",
    "            loss.backward()\n",
    "            optimizer.step()\n",
    "            total_loss += loss.item()\n",
    "        avg_loss = total_loss / len(dataloader)\n",
    "        loss_history.append(avg_loss)\n",
    "        print(f\"Epoch {epoch + 1} | Avg Loss: {avg_loss:.4f}\")\n",
    "    return loss_history"
   ],
   "outputs": [],
   "execution_count": 28
  },
  {
   "metadata": {
    "ExecuteTime": {
     "end_time": "2025-04-01T09:08:49.757237Z",
     "start_time": "2025-04-01T09:08:49.736658Z"
    }
   },
   "cell_type": "code",
   "source": [
    "def evaluate_model(model, dataloader, criterion, device=\"cpu\"):\n",
    "    model.eval()\n",
    "    total_loss = 0\n",
    "    with torch.no_grad():\n",
    "        for X, Y in dataloader:\n",
    "            X, Y = X.to(device), Y.to(device)\n",
    "            outputs, _ = model(X)\n",
    "            loss = criterion(outputs.view(-1, outputs.size(-1)), Y.view(-1))\n",
    "            total_loss += loss.item()\n",
    "    ppl = math.exp(total_loss / len(dataloader))\n",
    "    print(f\"Perplexity: {ppl:.2f}\")\n",
    "    return ppl\n"
   ],
   "outputs": [],
   "execution_count": 29
  },
  {
   "metadata": {
    "ExecuteTime": {
     "end_time": "2025-04-01T13:37:25.161382Z",
     "start_time": "2025-04-01T13:37:25.144072Z"
    }
   },
   "cell_type": "code",
   "source": [
    "def clean_prefix(prefix, word2id):\n",
    "    # 清理 prefix 中的 <unk> 标签，直接删除它们\n",
    "    tokens = prefix.lower().split()\n",
    "    cleaned_tokens = [token for token in tokens if word2id.get(token) is not None]  # 仅保留词汇表中存在的单词\n",
    "    return ' '.join(cleaned_tokens)\n",
    "\n",
    "def generate_greedy(model, word2id, id2word, prefix, max_len=20, device=\"cpu\"):\n",
    "    model.eval()\n",
    "\n",
    "    # 清理 prefix，去除 <unk> 标签\n",
    "    cleaned_prefix = clean_prefix(prefix, word2id)\n",
    "    tokens = cleaned_prefix.lower().split()\n",
    "    \n",
    "    # 生成 initial input_ids (确保每个词都在词汇表中)\n",
    "    input_ids = [word2id.get(w, word2id[\"<unk>\"]) for w in tokens]\n",
    "    input_tensor = torch.tensor([input_ids], dtype=torch.long).to(device)\n",
    "\n",
    "    hidden = None\n",
    "    generated_tokens = []  # 用于保存生成的 tokens（不重复）\n",
    "\n",
    "    with torch.no_grad():\n",
    "        for _ in range(max_len):\n",
    "            # 当前生成的 token 是基于 input_tensor 的最新内容进行生成的\n",
    "            output, hidden = model(input_tensor, hidden)\n",
    "            last_token_logits = output[:, -1, :]  # 取最后一个位置的输出\n",
    "            next_token = torch.argmax(last_token_logits, dim=-1).item()\n",
    "\n",
    "            # 将新生成的 token 加入 generated_tokens\n",
    "            generated_tokens.append(next_token)\n",
    "            \n",
    "            # 将新生成的 token 拼接到 input_tensor 中用于下一步生成\n",
    "            input_tensor = torch.cat([input_tensor, torch.tensor([[next_token]], device=device)], dim=1)\n",
    "\n",
    "    # 拼接生成的结果并返回\n",
    "    result = ' '.join([id2word.get(idx, \"<unk>\") for idx in generated_tokens])\n",
    "    return result\n"
   ],
   "outputs": [],
   "execution_count": 54
  },
  {
   "metadata": {
    "ExecuteTime": {
     "end_time": "2025-04-01T10:06:03.616434Z",
     "start_time": "2025-04-01T09:08:49.850951Z"
    }
   },
   "cell_type": "code",
   "source": [
    "# 初始化模型\n",
    "vocab_size = len(word2id)\n",
    "lstm_model = LSTMLanguageModel(\n",
    "    vocab_size=vocab_size,\n",
    "    embed_dim=50,\n",
    "    hidden_dim=100,\n",
    "    num_layers=1,\n",
    "    bidirectional=False)\n",
    "\n",
    "# 准备训练工具\n",
    "device = torch.device(\"cuda\" if torch.cuda.is_available() else \"cpu\")\n",
    "lstm_model = lstm_model.to(device)\n",
    "\n",
    "criterion = nn.CrossEntropyLoss()\n",
    "optimizer_lstm = torch.optim.Adam(lstm_model.parameters(), lr=0.003) \n",
    "\n",
    "# 启动训练\n",
    "print(\"Training LSTM...\")\n",
    "lstm_loss_history = train_model(lstm_model, train_loader, optimizer_lstm, criterion, epochs=7, device=device)\n",
    "\n",
    "# 评估模型（Perplexity）\n",
    "print(\"Evaluating LSTM...\")\n",
    "lstm_ppl = evaluate_model(lstm_model, test_loader, criterion, device=device)\n"
   ],
   "outputs": [
    {
     "name": "stdout",
     "output_type": "stream",
     "text": [
      "Training LSTM...\n"
     ]
    },
    {
     "name": "stderr",
     "output_type": "stream",
     "text": [
      "100%|██████████| 31103/31103 [08:11<00:00, 63.34it/s]\n"
     ]
    },
    {
     "name": "stdout",
     "output_type": "stream",
     "text": [
      "Epoch 1 | Avg Loss: 4.2162\n"
     ]
    },
    {
     "name": "stderr",
     "output_type": "stream",
     "text": [
      "100%|██████████| 31103/31103 [08:08<00:00, 63.67it/s]\n"
     ]
    },
    {
     "name": "stdout",
     "output_type": "stream",
     "text": [
      "Epoch 2 | Avg Loss: 3.6147\n"
     ]
    },
    {
     "name": "stderr",
     "output_type": "stream",
     "text": [
      "100%|██████████| 31103/31103 [08:07<00:00, 63.85it/s]\n"
     ]
    },
    {
     "name": "stdout",
     "output_type": "stream",
     "text": [
      "Epoch 3 | Avg Loss: 3.5118\n"
     ]
    },
    {
     "name": "stderr",
     "output_type": "stream",
     "text": [
      "100%|██████████| 31103/31103 [08:05<00:00, 64.01it/s]\n"
     ]
    },
    {
     "name": "stdout",
     "output_type": "stream",
     "text": [
      "Epoch 4 | Avg Loss: 3.4710\n"
     ]
    },
    {
     "name": "stderr",
     "output_type": "stream",
     "text": [
      "100%|██████████| 31103/31103 [08:06<00:00, 63.87it/s]\n"
     ]
    },
    {
     "name": "stdout",
     "output_type": "stream",
     "text": [
      "Epoch 5 | Avg Loss: 3.4493\n"
     ]
    },
    {
     "name": "stderr",
     "output_type": "stream",
     "text": [
      "100%|██████████| 31103/31103 [08:05<00:00, 64.06it/s]\n"
     ]
    },
    {
     "name": "stdout",
     "output_type": "stream",
     "text": [
      "Epoch 6 | Avg Loss: 3.4358\n"
     ]
    },
    {
     "name": "stderr",
     "output_type": "stream",
     "text": [
      "100%|██████████| 31103/31103 [08:05<00:00, 64.08it/s]\n"
     ]
    },
    {
     "name": "stdout",
     "output_type": "stream",
     "text": [
      "Epoch 7 | Avg Loss: 3.4257\n",
      "Evaluating LSTM...\n",
      "Perplexity: 31655.46\n"
     ]
    }
   ],
   "execution_count": 31
  },
  {
   "metadata": {
    "ExecuteTime": {
     "end_time": "2025-04-01T10:06:03.872209Z",
     "start_time": "2025-04-01T10:06:03.619012Z"
    }
   },
   "cell_type": "code",
   "source": [
    "plt.figure(figsize=(8, 5))\n",
    "plt.plot(lstm_loss_history, label=\"LSTM\")\n",
    "plt.title(\"Training Loss Curves\")\n",
    "plt.xlabel(\"Epoch\")\n",
    "plt.ylabel(\"Loss\")\n",
    "plt.xticks(range(len(lstm_loss_history)))\n",
    "\n",
    "plt.legend()\n",
    "plt.grid(True)\n",
    "plt.show()\n"
   ],
   "outputs": [
    {
     "data": {
      "text/plain": [
       "<Figure size 800x500 with 1 Axes>"
      ],
      "image/png": "[encoded data removed]"
     },
     "metadata": {},
     "output_type": "display_data"
    }
   ],
   "execution_count": 32
  },
  {
   "metadata": {},
   "cell_type": "markdown",
   "source": ""
  },
  {
   "metadata": {
    "ExecuteTime": {
     "end_time": "2025-04-01T10:06:03.930875Z",
     "start_time": "2025-04-01T10:06:03.874654Z"
    }
   },
   "cell_type": "code",
   "source": [
    "prefix = \"Harry looked at\"\n",
    "print(f\"\\nGenerated sentences from prefix: '{prefix}'\\n\")\n",
    "\n",
    "for i in range(5):\n",
    "    lstm_output = generate_greedy(lstm_model, word2id, id2word, prefix, max_len=20, device=device)\n",
    "\n",
    "    print(f\"Pair {i + 1}:\")\n",
    "    print(\"  LSTM: \", lstm_output)"
   ],
   "outputs": [
    {
     "name": "stdout",
     "output_type": "stream",
     "text": [
      "\n",
      "Generated sentences from prefix: 'Harry looked at'\n",
      "\n",
      "Pair 1:\n",
      "  LSTM:  <unk> looked at him at once .They were all bleating about silencing you somehow discrediting you but I daresay we shall be able\n",
      "Pair 2:\n",
      "  LSTM:  <unk> looked at him at once .They were all bleating about silencing you somehow discrediting you but I daresay we shall be able\n",
      "Pair 3:\n",
      "  LSTM:  <unk> looked at him at once .They were all bleating about silencing you somehow discrediting you but I daresay we shall be able\n",
      "Pair 4:\n",
      "  LSTM:  <unk> looked at him at once .They were all bleating about silencing you somehow discrediting you but I daresay we shall be able\n",
      "Pair 5:\n",
      "  LSTM:  <unk> looked at him at once .They were all bleating about silencing you somehow discrediting you but I daresay we shall be able\n"
     ]
    }
   ],
   "execution_count": 33
  },
  {
   "metadata": {
    "ExecuteTime": {
     "end_time": "2025-04-01T13:37:32.557511Z",
     "start_time": "2025-04-01T13:37:32.333256Z"
    }
   },
   "cell_type": "code",
   "source": [
    "prefixes = [\n",
    "    \"Harry looked at\",\n",
    "    \"Harry looked over\",\n",
    "    \"Hermione said that\",\n",
    "    \"Ron said\",\n",
    "    \"The wand flied\",\n",
    "    \"Dumbledore rushed out the room angrily\"\n",
    "]\n",
    "\n",
    "for prefix in prefixes:\n",
    "    print(f\"{prefix} {generate_greedy(lstm_model, word2id, id2word, prefix, max_len=50, device=device)}\")"
   ],
   "outputs": [
    {
     "name": "stdout",
     "output_type": "stream",
     "text": [
      "Harry looked at him and he launched himself away and the toes of the sensation that he had never had Ministerial ambitions .Three years ago and the essential thing to do with the prophecy would consent to remove the Permanent Sticking Charm that keeps admitting that he was likely to collect him to\n",
      "Harry looked over his shoulder .Somebody was plainly not to be dreaming about dueling it was a week look at the Firebolt and he saw him glance at him and looked up at the ceiling of the Pensieve .There were a few seconds as he had to get to the Burrow .He was\n",
      "Hermione said that he was looking at him and he was going to be married said Ron and Hermione together together soundlessly .Everything was in a corner of the closet .Harry and Ron were looking at him and looked up at the ceiling of the Pensieve .There were a few seconds as he\n",
      "Ron said Ron looking uneasily at the sound of the operation he had been dreading the Snitch that he had to get back to the ground .He was not sure that the Muffliato spell unaware anythings happened and that he had been tested for the rest of the summer he had been\n",
      "The wand flied and Harry saw the same sixthyear girls had been dreading the match and the only undesirable things rushed to the ground and turned around to see whether he had ever seen in the icing said Harry and Harry had once been in the hospital wing .Ron was now standing up\n",
      "Dumbledore rushed out the room angrily and was reminded of eggs and injury and he was constantly flexing his head to the back of his turkey hippogriffs and he was on the bottommost shapes of the drawer which was a loud hooting roar and the hopelessness and paused for a moment to the left of the\n"
     ]
    }
   ],
   "execution_count": 55
  },
  {
   "metadata": {},
   "cell_type": "markdown",
   "source": "Compare with pretrained embeddings"
  },
  {
   "metadata": {
    "ExecuteTime": {
     "end_time": "2025-04-01T12:48:50.304939Z",
     "start_time": "2025-04-01T10:06:03.932443Z"
    }
   },
   "cell_type": "code",
   "source": [
    "import gensim.downloader as api\n",
    "\n",
    "# 下载 GloVe（200维）预训练词向量\n",
    "glove = api.load(\"glove-wiki-gigaword-200\")\n",
    "embedding_dim = 200\n",
    "hidden_dim=256\n",
    "vocab_size = len(word2id)\n",
    "# 初始化：每个词都是全 0\n",
    "embedding_matrix = np.zeros((vocab_size, embedding_dim))\n",
    "for word, idx in word2id.items():\n",
    "    if word in glove:\n",
    "        embedding_matrix[idx] = glove[word]\n",
    "    else:\n",
    "        # 没找到的词用随机初始化（或均值、全零）\n",
    "        embedding_matrix[idx] = np.random.normal(scale=0.6, size=(embedding_dim,))\n",
    "\n",
    "pretrained_tensor = torch.tensor(embedding_matrix, dtype=torch.float)\n",
    "\n",
    "lstm_pretrained = LSTMLanguageModel(\n",
    "    vocab_size=vocab_size,\n",
    "    embed_dim=embedding_dim,  #200,\n",
    "    hidden_dim=hidden_dim,  #256,\n",
    "    num_layers=1\n",
    ")\n",
    "\n",
    "# 替换 embedding 权重\n",
    "lstm_pretrained.embedding = nn.Embedding.from_pretrained(pretrained_tensor, freeze=False)   \n",
    "lstm_pretrained = lstm_pretrained.to(device)\n",
    "\n",
    "criterion = nn.CrossEntropyLoss()\n",
    "optimizer_lstm_gensim_glove = torch.optim.Adam(lstm_pretrained.parameters(), lr=0.0005)\n",
    "\n",
    "print(\"Training GloVe pretrained LSTM...\")\n",
    "loss_pretrained = train_model(lstm_pretrained, train_loader, optimizer_lstm_gensim_glove, criterion, epochs=10,\n",
    "                              device=device)"
   ],
   "outputs": [
    {
     "name": "stdout",
     "output_type": "stream",
     "text": [
      "Training GloVe pretrained LSTM...\n"
     ]
    },
    {
     "name": "stderr",
     "output_type": "stream",
     "text": [
      "100%|██████████| 31103/31103 [13:09<00:00, 39.38it/s]\n"
     ]
    },
    {
     "name": "stdout",
     "output_type": "stream",
     "text": [
      "Epoch 1 | Avg Loss: 4.2830\n"
     ]
    },
    {
     "name": "stderr",
     "output_type": "stream",
     "text": [
      "100%|██████████| 31103/31103 [13:07<00:00, 39.49it/s]\n"
     ]
    },
    {
     "name": "stdout",
     "output_type": "stream",
     "text": [
      "Epoch 2 | Avg Loss: 2.9579\n"
     ]
    },
    {
     "name": "stderr",
     "output_type": "stream",
     "text": [
      "100%|██████████| 31103/31103 [13:03<00:00, 39.72it/s]\n"
     ]
    },
    {
     "name": "stdout",
     "output_type": "stream",
     "text": [
      "Epoch 3 | Avg Loss: 2.3696\n"
     ]
    },
    {
     "name": "stderr",
     "output_type": "stream",
     "text": [
      "100%|██████████| 31103/31103 [17:54<00:00, 28.96it/s]\n"
     ]
    },
    {
     "name": "stdout",
     "output_type": "stream",
     "text": [
      "Epoch 4 | Avg Loss: 2.0439\n"
     ]
    },
    {
     "name": "stderr",
     "output_type": "stream",
     "text": [
      "100%|██████████| 31103/31103 [17:33<00:00, 29.51it/s]\n"
     ]
    },
    {
     "name": "stdout",
     "output_type": "stream",
     "text": [
      "Epoch 5 | Avg Loss: 1.8557\n"
     ]
    },
    {
     "name": "stderr",
     "output_type": "stream",
     "text": [
      "100%|██████████| 31103/31103 [23:22<00:00, 22.18it/s]\n"
     ]
    },
    {
     "name": "stdout",
     "output_type": "stream",
     "text": [
      "Epoch 6 | Avg Loss: 1.7403\n"
     ]
    },
    {
     "name": "stderr",
     "output_type": "stream",
     "text": [
      "100%|██████████| 31103/31103 [21:23<00:00, 24.23it/s]\n"
     ]
    },
    {
     "name": "stdout",
     "output_type": "stream",
     "text": [
      "Epoch 7 | Avg Loss: 1.6643\n"
     ]
    },
    {
     "name": "stderr",
     "output_type": "stream",
     "text": [
      "100%|██████████| 31103/31103 [13:12<00:00, 39.26it/s]\n"
     ]
    },
    {
     "name": "stdout",
     "output_type": "stream",
     "text": [
      "Epoch 8 | Avg Loss: 1.6109\n"
     ]
    },
    {
     "name": "stderr",
     "output_type": "stream",
     "text": [
      "100%|██████████| 31103/31103 [12:50<00:00, 40.36it/s]\n"
     ]
    },
    {
     "name": "stdout",
     "output_type": "stream",
     "text": [
      "Epoch 9 | Avg Loss: 1.5711\n"
     ]
    },
    {
     "name": "stderr",
     "output_type": "stream",
     "text": [
      "100%|██████████| 31103/31103 [12:45<00:00, 40.62it/s]"
     ]
    },
    {
     "name": "stdout",
     "output_type": "stream",
     "text": [
      "Epoch 10 | Avg Loss: 1.5403\n"
     ]
    },
    {
     "name": "stderr",
     "output_type": "stream",
     "text": [
      "\n"
     ]
    }
   ],
   "execution_count": 34
  },
  {
   "metadata": {
    "ExecuteTime": {
     "end_time": "2025-04-01T12:48:50.598061Z",
     "start_time": "2025-04-01T12:48:50.308698Z"
    }
   },
   "cell_type": "code",
   "source": [
    "plt.figure(figsize=(8, 5))\n",
    "plt.plot(loss_pretrained, label=\"LSTM_Glove\")\n",
    "plt.title(\"Training Loss Curves\")\n",
    "plt.xlabel(\"Epoch\")\n",
    "plt.ylabel(\"Loss\")\n",
    "plt.xticks(range(len(loss_pretrained)))\n",
    "plt.legend()\n",
    "plt.grid(True)\n",
    "plt.show()"
   ],
   "outputs": [
    {
     "data": {
      "text/plain": [
       "<Figure size 800x500 with 1 Axes>"
      ],
      "image/png": "[encoded data removed]"
     },
     "metadata": {},
     "output_type": "display_data"
    }
   ],
   "execution_count": 35
  },
  {
   "metadata": {
    "ExecuteTime": {
     "end_time": "2025-04-01T12:49:23.360786Z",
     "start_time": "2025-04-01T12:48:50.599729Z"
    }
   },
   "cell_type": "code",
   "source": [
    "# 评估模型（Perplexity）\n",
    "print(\"Evaluating LSTM with Glove...\")\n",
    "lstm_glove_ppl = evaluate_model(lstm_pretrained, test_loader, criterion, device=device)"
   ],
   "outputs": [
    {
     "name": "stdout",
     "output_type": "stream",
     "text": [
      "Evaluating LSTM with Glove...\n",
      "Perplexity: 85965.09\n"
     ]
    }
   ],
   "execution_count": 36
  },
  {
   "metadata": {
    "ExecuteTime": {
     "end_time": "2025-04-01T12:49:23.438022Z",
     "start_time": "2025-04-01T12:49:23.364732Z"
    }
   },
   "cell_type": "code",
   "source": [
    "prefix = \"Harry looked at\"\n",
    "print(f\"\\nGenerated sentences from prefix: '{prefix}'\\n\")\n",
    "\n",
    "for i in range(5):\n",
    "    lstm_glove_output = generate_greedy(lstm_pretrained, word2id, id2word, prefix, max_len=20, device=device)\n",
    "\n",
    "    print(f\"Pair {i + 1}:\")\n",
    "    print(\"  LSTM: \", lstm_glove_output)"
   ],
   "outputs": [
    {
     "name": "stdout",
     "output_type": "stream",
     "text": [
      "\n",
      "Generated sentences from prefix: 'Harry looked at'\n",
      "\n",
      "Pair 1:\n",
      "  LSTM:  <unk> looked at him .Madam Pomfrey was actually in a cave dark .Harry and Hermione waited until they were all wearing the same\n",
      "Pair 2:\n",
      "  LSTM:  <unk> looked at him .Madam Pomfrey was actually in a cave dark .Harry and Hermione waited until they were all wearing the same\n",
      "Pair 3:\n",
      "  LSTM:  <unk> looked at him .Madam Pomfrey was actually in a cave dark .Harry and Hermione waited until they were all wearing the same\n",
      "Pair 4:\n",
      "  LSTM:  <unk> looked at him .Madam Pomfrey was actually in a cave dark .Harry and Hermione waited until they were all wearing the same\n",
      "Pair 5:\n",
      "  LSTM:  <unk> looked at him .Madam Pomfrey was actually in a cave dark .Harry and Hermione waited until they were all wearing the same\n"
     ]
    }
   ],
   "execution_count": 37
  },
  {
   "metadata": {
    "ExecuteTime": {
     "end_time": "2025-04-01T13:37:46.236731Z",
     "start_time": "2025-04-01T13:37:45.952527Z"
    }
   },
   "cell_type": "code",
   "source": [
    "prefixes = [\n",
    "    \"Harry looked at\",\n",
    "    \"Harry looked over\",\n",
    "    \"Hermione said that\",\n",
    "    \"Ron said\",\n",
    "    \"The wand flied\",\n",
    "    \"Dumbledore rushed out the room angrily\"\n",
    "]\n",
    "\n",
    "for prefix in prefixes:\n",
    "    print(f\"{prefix} {generate_greedy(lstm_pretrained, word2id, id2word, prefix, max_len=50, device=device)}\")"
   ],
   "outputs": [
    {
     "name": "stdout",
     "output_type": "stream",
     "text": [
      "Harry looked at him as though she had not heard her say that her hand was still in the air and that it was on a hinge .Someone had obviously tried to behead him but not done it properly .Looking pleased at the stunned looks on their faces Nearly Headless Nick flipped his\n",
      "Harry looked over his shoulder Harry felt as though the sunlight had dropped a red light It flew twenty minutes later with everyone else was inside a burst of flame which shot across Magnolia Crescent and settled it into a chair opposite her oddly misty eyes of tiny eyes upon him .Her eyes\n",
      "Hermione said that the room was full of the smell of cats the socks that wound despite the freezing water looking sick and cried On my name what happened Dad an I couldnt do .White an shakin he was .An yeh know what yer mum and dad yer parents ? Ronan said Hagrid\n",
      "Ron said Harry quickly as Ron and Hermione found Fleur and Roger Davies who had a large round of inky shadows and casting a great deal of acrid black creatures who were sitting in the library looking up at Harry as though he were there too near the corner of Christmas tea\n",
      "The wand flied gave a loud click and his butterbeer upon it to sprawl on the floor of her face and then said Harry .Ron started to bet he was the wandmaker from whom he had been betrayed us .I didnt do it and I mean I didnt know what to say if\n",
      "Dumbledore rushed out the room angrily to Harry as they passed the Slytherin team Captain but the Fat Lady meant having a poke of course too much to make out that he didnt even break it said Harry grinning as he fought his wand to the door and smashed on the floor with her wand in\n"
     ]
    }
   ],
   "execution_count": 56
  }
 ],
 "metadata": {
  "language_info": {
   "name": "python"
  },
  "kernelspec": {
   "name": "nnunet",
   "language": "python",
   "display_name": "ZS-nnU"
  }
 },
 "nbformat": 4,
 "nbformat_minor": 2
}
